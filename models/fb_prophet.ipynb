{
 "cells": [
  {
   "cell_type": "code",
   "execution_count": 11,
   "metadata": {},
   "outputs": [],
   "source": [
    "import pandas as pd\n",
    "import numpy as np\n",
    "\n",
    "# set the seed\n",
    "np.random.seed(99)"
   ]
  },
  {
   "cell_type": "code",
   "execution_count": 12,
   "metadata": {},
   "outputs": [],
   "source": [
    "from fb_prophet import *"
   ]
  },
  {
   "cell_type": "code",
   "execution_count": 13,
   "metadata": {},
   "outputs": [
    {
     "data": {
      "text/html": [
       "<div>\n",
       "<style scoped>\n",
       "    .dataframe tbody tr th:only-of-type {\n",
       "        vertical-align: middle;\n",
       "    }\n",
       "\n",
       "    .dataframe tbody tr th {\n",
       "        vertical-align: top;\n",
       "    }\n",
       "\n",
       "    .dataframe thead th {\n",
       "        text-align: right;\n",
       "    }\n",
       "</style>\n",
       "<table border=\"1\" class=\"dataframe\">\n",
       "  <thead>\n",
       "    <tr style=\"text-align: right;\">\n",
       "      <th></th>\n",
       "      <th>ds</th>\n",
       "      <th>y</th>\n",
       "    </tr>\n",
       "  </thead>\n",
       "  <tbody>\n",
       "    <tr>\n",
       "      <th>0</th>\n",
       "      <td>2016-01-01 00:00:00</td>\n",
       "      <td>23.86</td>\n",
       "    </tr>\n",
       "    <tr>\n",
       "      <th>1</th>\n",
       "      <td>2016-01-01 01:00:00</td>\n",
       "      <td>22.39</td>\n",
       "    </tr>\n",
       "    <tr>\n",
       "      <th>2</th>\n",
       "      <td>2016-01-01 02:00:00</td>\n",
       "      <td>20.59</td>\n",
       "    </tr>\n",
       "    <tr>\n",
       "      <th>3</th>\n",
       "      <td>2016-01-01 03:00:00</td>\n",
       "      <td>16.81</td>\n",
       "    </tr>\n",
       "    <tr>\n",
       "      <th>4</th>\n",
       "      <td>2016-01-01 04:00:00</td>\n",
       "      <td>17.41</td>\n",
       "    </tr>\n",
       "    <tr>\n",
       "      <th>...</th>\n",
       "      <td>...</td>\n",
       "      <td>...</td>\n",
       "    </tr>\n",
       "    <tr>\n",
       "      <th>73771</th>\n",
       "      <td>2024-05-31 19:00:00</td>\n",
       "      <td>107.94</td>\n",
       "    </tr>\n",
       "    <tr>\n",
       "      <th>73772</th>\n",
       "      <td>2024-05-31 20:00:00</td>\n",
       "      <td>115.00</td>\n",
       "    </tr>\n",
       "    <tr>\n",
       "      <th>73773</th>\n",
       "      <td>2024-05-31 21:00:00</td>\n",
       "      <td>107.91</td>\n",
       "    </tr>\n",
       "    <tr>\n",
       "      <th>73774</th>\n",
       "      <td>2024-05-31 22:00:00</td>\n",
       "      <td>101.74</td>\n",
       "    </tr>\n",
       "    <tr>\n",
       "      <th>73775</th>\n",
       "      <td>2024-05-31 23:00:00</td>\n",
       "      <td>84.18</td>\n",
       "    </tr>\n",
       "  </tbody>\n",
       "</table>\n",
       "<p>73776 rows × 2 columns</p>\n",
       "</div>"
      ],
      "text/plain": [
       "                       ds       y\n",
       "0     2016-01-01 00:00:00   23.86\n",
       "1     2016-01-01 01:00:00   22.39\n",
       "2     2016-01-01 02:00:00   20.59\n",
       "3     2016-01-01 03:00:00   16.81\n",
       "4     2016-01-01 04:00:00   17.41\n",
       "...                   ...     ...\n",
       "73771 2024-05-31 19:00:00  107.94\n",
       "73772 2024-05-31 20:00:00  115.00\n",
       "73773 2024-05-31 21:00:00  107.91\n",
       "73774 2024-05-31 22:00:00  101.74\n",
       "73775 2024-05-31 23:00:00   84.18\n",
       "\n",
       "[73776 rows x 2 columns]"
      ]
     },
     "execution_count": 13,
     "metadata": {},
     "output_type": "execute_result"
    }
   ],
   "source": [
    "# File path to the CSV data\n",
    "file_path = '../data/Day Ahead Auction Prices.csv'\n",
    "\n",
    "# Load and preprocess the data\n",
    "day_ahead = load_day_ahead_prices(file_path)\n",
    "\n",
    "# Prepare the DataFrame for Prophet\n",
    "df = day_ahead.reset_index().rename(columns={'datetime': 'ds', 'price': 'y'})\n",
    "df"
   ]
  },
  {
   "cell_type": "code",
   "execution_count": 14,
   "metadata": {},
   "outputs": [],
   "source": [
    "# Get the last date in the dataset\n",
    "last_date = df['ds'].max()\n",
    "\n",
    "# Define train-test split\n",
    "train_end_date = last_date - pd.Timedelta(days=365)\n",
    "train_df = df[df['ds'] <= train_end_date]\n",
    "test_df = df[df['ds'] > train_end_date]\n",
    "\n",
    "# Define the parameter grid\n",
    "param_grid = {\n",
    "    'growth': ['flat'],\n",
    "    'yearly_seasonality': [True],\n",
    "    'weekly_seasonality': [True],\n",
    "    'daily_seasonality': [True],\n",
    "    'seasonality_mode': ['additive', 'multiplicative'],\n",
    "    'changepoint_prior_scale': [0.001, 0.01, 0.1, 0.5],\n",
    "    'seasonality_prior_scale': [0.1, 1, 10],\n",
    "    'holidays_prior_scale': [0.01, 0.1, 1, 10]\n",
    "}"
   ]
  },
  {
   "cell_type": "code",
   "execution_count": 15,
   "metadata": {},
   "outputs": [],
   "source": [
    "# Perform hyperparameter tuning\n",
    "horizon = '365 days'\n",
    "tuning_results = tune_hyperparameters(train_df, param_grid, horizon)\n",
    "tuning_results"
   ]
  },
  {
   "cell_type": "code",
   "execution_count": null,
   "metadata": {},
   "outputs": [],
   "source": [
    "# Fit the best model\n",
    "best_params = tuning_results.loc[tuning_results['rmse'].idxmin()].to_dict()\n",
    "m = Prophet(**{k: v for k, v in best_params.items() if k != 'rmse'})\n",
    "m.add_country_holidays(country_name='DE')\n",
    "m.fit(train_df)\n",
    "print(\"best_params\", best_params)"
   ]
  },
  {
   "cell_type": "code",
   "execution_count": null,
   "metadata": {},
   "outputs": [],
   "source": [
    "# Forecast future values\n",
    "future = m.make_future_dataframe(periods=365 * 24, freq='h')  # 1-year forecast\n",
    "forecast = m.predict(future)\n",
    "\n",
    "# Evaluate model on test set\n",
    "y_test = test_df['y'].values\n",
    "y_pred = forecast.loc[forecast['ds'].isin(test_df['ds']), 'yhat'].values\n",
    "\n",
    "metrics = evaluate_model(y_test, y_pred)\n",
    "print(\"Evaluation Metrics:\", metrics)"
   ]
  },
  {
   "cell_type": "code",
   "execution_count": null,
   "metadata": {},
   "outputs": [],
   "source": [
    "# Refit the model on the entire dataset\n",
    "print(\"Refitting the model on the entire dataset for a 5-year forecast...\")\n",
    "m_full = Prophet(**{k: v for k, v in best_params.items() if k != 'rmse'}).\n",
    "m_full.add_country_holidays(country_name='DE')\n",
    "m_full.fit(df)\n",
    "\n",
    "# Forecast 5 years into the future\n",
    "future_full = m_full.make_future_dataframe(periods=5 * 365 * 24, freq='h')  # 5-year forecast\n",
    "forecast_full = m_full.predict(future_full)\n",
    "\n",
    "# Save the 5-year forecast to a CSV file\n",
    "forecast_full.to_csv('../data/fb_prophet_5year_forecast.csv', index=False)\n",
    "print(\"5-year forecast saved as fb_prophet_5year_forecast.csv\")\n",
    "\n",
    "# Plot the training data, 1-year forecast, and 5-year forecast\n",
    "plot_training_and_forecast(train_df, forecast, forecast_full)"
   ]
  },
  {
   "cell_type": "code",
   "execution_count": null,
   "metadata": {},
   "outputs": [],
   "source": [
    "mfull.plot_components(forecast_full)"
   ]
  }
 ],
 "metadata": {
  "kernelspec": {
   "display_name": ".venv",
   "language": "python",
   "name": "python3"
  },
  "language_info": {
   "codemirror_mode": {
    "name": "ipython",
    "version": 3
   },
   "file_extension": ".py",
   "mimetype": "text/x-python",
   "name": "python",
   "nbconvert_exporter": "python",
   "pygments_lexer": "ipython3",
   "version": "3.9.6"
  }
 },
 "nbformat": 4,
 "nbformat_minor": 2
}
