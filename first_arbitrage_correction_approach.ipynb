{
 "cells": [
  {
   "cell_type": "code",
   "execution_count": 1,
   "metadata": {},
   "outputs": [],
   "source": [
    "import pandas as pd\n",
    "import numpy as np\n",
    "import matplotlib.pyplot as plt\n",
    "import seaborn as sns\n",
    "import plotly.express as px\n",
    "import plotly.graph_objects as go\n",
    "from plotly.subplots import make_subplots\n",
    "import plotly.colors as pc\n",
    "from scipy.optimize import minimize\n",
    "from utils import *"
   ]
  },
  {
   "cell_type": "code",
   "execution_count": 7,
   "metadata": {},
   "outputs": [
    {
     "data": {
      "text/html": [
       "<div>\n",
       "<style scoped>\n",
       "    .dataframe tbody tr th:only-of-type {\n",
       "        vertical-align: middle;\n",
       "    }\n",
       "\n",
       "    .dataframe tbody tr th {\n",
       "        vertical-align: top;\n",
       "    }\n",
       "\n",
       "    .dataframe thead th {\n",
       "        text-align: right;\n",
       "    }\n",
       "</style>\n",
       "<table border=\"1\" class=\"dataframe\">\n",
       "  <thead>\n",
       "    <tr style=\"text-align: right;\">\n",
       "      <th></th>\n",
       "    </tr>\n",
       "  </thead>\n",
       "  <tbody>\n",
       "  </tbody>\n",
       "</table>\n",
       "</div>"
      ],
      "text/plain": [
       "Empty DataFrame\n",
       "Columns: []\n",
       "Index: []"
      ]
     },
     "execution_count": 7,
     "metadata": {},
     "output_type": "execute_result"
    }
   ],
   "source": [
    "#make one big dataframe with arbitrage for every timestamp\n",
    "arbitrage_df = pd.DataFrame()\n",
    "for date in get_forwards()['TimeStamp'].astype(str).unique():\n",
    "    arbitrage_df = pd.concat([arbitrage_df,get_arbitrage_opportunities_in_forwards(get_forwards(date),date)])\n",
    "arbitrage_df"
   ]
  },
  {
   "cell_type": "code",
   "execution_count": 2,
   "metadata": {},
   "outputs": [],
   "source": [
    "test_forecast= pd.read_csv('data/test_forecast.csv',sep=',')\n",
    "test_forecast['timestamp'] = pd.to_datetime(test_forecast['ds'], errors='coerce')\n",
    "#arbitrage_correction('2021-01-04',test_forecast,lambda_1 = 0)"
   ]
  },
  {
   "cell_type": "code",
   "execution_count": 3,
   "metadata": {},
   "outputs": [
    {
     "data": {
      "image/png": "[encoded data removed]",
      "text/plain": [
       "<Figure size 1000x200 with 1 Axes>"
      ]
     },
     "metadata": {},
     "output_type": "display_data"
    },
    {
     "data": {
      "image/png": "[encoded data removed]",
      "text/plain": [
       "<Figure size 1000x200 with 1 Axes>"
      ]
     },
     "metadata": {},
     "output_type": "display_data"
    }
   ],
   "source": [
    "#visualize constraints\n",
    "start = test_forecast['timestamp'].min()\n",
    "end = test_forecast['timestamp'].max()\n",
    "timestamp = '2021-01-04'\n",
    "A, b, D= get_restrictions(timestamp,start,end)\n",
    "plt.figure(figsize=(10, 2))  # Adjust the figure size for better readability\n",
    "plt.imshow(A, cmap='binary', aspect='auto')  # 'auto' aspect ratio scales with the matrix shape\n",
    "plt.show()\n",
    "plt.figure(figsize=(10, 2))  # Adjust the figure size for better readability\n",
    "plt.imshow(D, cmap='binary', aspect='auto')  # 'auto' aspect ratio scales with the matrix shape\n",
    "plt.show()"
   ]
  },
  {
   "cell_type": "code",
   "execution_count": 4,
   "metadata": {},
   "outputs": [
    {
     "data": {
      "application/vnd.plotly.v1+json": {
       "config": {
        "plotlyServerURL": "https://plot.ly"
       },
       "data": [
        {
         "line": {
          "color": "black"
         },
         "mode": "lines",
         "name": "forecast",
         "type": "scatter",
         "x": [
          "2021-01-01T00:00:00",
          "2021-01-01T01:00:00",
          "2021-01-01T02:00:00",
          "2021-01-01T03:00:00",
          "2021-01-01T04:00:00",
          "2021-01-01T05:00:00",
          "2021-01-01T06:00:00",
          "2021-01-01T07:00:00",
          "2021-01-01T08:00:00",
          "2021-01-01T09:00:00",
          "2021-01-01T10:00:00",
          "2021-01-01T11:00:00",
          "2021-01-01T12:00:00",
          "2021-01-01T13:00:00",
          "2021-01-01T14:00:00",
          "2021-01-01T15:00:00",
          "2021-01-01T16:00:00",
          "2021-01-01T17:00:00",
          "2021-01-01T18:00:00",
          "2021-01-01T19:00:00",
          "2021-01-01T20:00:00",
          "2021-01-01T21:00:00",
          "2021-01-01T22:00:00",
          "2021-01-01T23:00:00",
          "2021-01-02T00:00:00",
          "2021-01-02T01:00:00",
          "2021-01-02T02:00:00",
          "2021-01-02T03:00:00",
          "2021-01-02T04:00:00",
          "2021-01-02T05:00:00",
          "2021-01-02T06:00:00",
          "2021-01-02T07:00:00",
          "2021-01-02T08:00:00",
          "2021-01-02T09:00:00",
          "2021-01-02T10:00:00",
          "2021-01-02T11:00:00",
          "2021-01-02T12:00:00",
          "2021-01-02T13:00:00",
          "2021-01-02T14:00:00",
          "2021-01-02T15:00:00",
          "2021-01-02T16:00:00",
          "2021-01-02T17:00:00",
          "2021-01-02T18:00:00",
          "2021-01-02T19:00:00",
          "2021-01-02T20:00:00",
          "2021-01-02T21:00:00",
          "2021-01-02T22:00:00",
          "2021-01-02T23:00:00",
          "2021-01-03T00:00:00",
          "2021-01-03T01:00:00",
          "2021-01-03T02:00:00",
          "2021-01-03T03:00:00",
          "2021-01-03T04:00:00",
          "2021-01-03T05:00:00",
          "2021-01-03T06:00:00",
          "2021-01-03T07:00:00",
          "2021-01-03T08:00:00",
          "2021-01-03T09:00:00",
          "2021-01-03T10:00:00",
          "2021-01-03T11:00:00",
          "2021-01-03T12:00:00",
          "2021-01-03T13:00:00",
          "2021-01-03T14:00:00",
          "2021-01-03T15:00:00",
          "2021-01-03T16:00:00",
          "2021-01-03T17:00:00",
          "2021-01-03T18:00:00",
          "2021-01-03T19:00:00",
          "2021-01-03T20:00:00",
          "2021-01-03T21:00:00",
          "2021-01-03T22:00:00",
          "2021-01-03T23:00:00",
          "2021-01-04T00:00:00",
          "2021-01-04T01:00:00",
          "2021-01-04T02:00:00",
          "2021-01-04T03:00:00",
          "2021-01-04T04:00:00",
          "2021-01-04T05:00:00",
          "2021-01-04T06:00:00",
          "2021-01-04T07:00:00",
          "2021-01-04T08:00:00",
          "2021-01-04T09:00:00",
          "2021-01-04T10:00:00",
          "2021-01-04T11:00:00",
          "2021-01-04T12:00:00",
          "2021-01-04T13:00:00",
          "2021-01-04T14:00:00",
          "2021-01-04T15:00:00",
          "2021-01-04T16:00:00",
          "2021-01-04T17:00:00",
          "2021-01-04T18:00:00",
          "2021-01-04T19:00:00",
          "2021-01-04T20:00:00",
          "2021-01-04T21:00:00",
          "2021-01-04T22:00:00",
          "2021-01-04T23:00:00",
          "2021-01-05T00:00:00",
          "2021-01-05T01:00:00",
          "2021-01-05T02:00:00",
          "2021-01-05T03:00:00",
          "2021-01-05T04:00:00",
          "2021-01-05T05:00:00",
          "2021-01-05T06:00:00",
          "2021-01-05T07:00:00",
          "2021-01-05T08:00:00",
          "2021-01-05T09:00:00",
          "2021-01-05T10:00:00",
          "2021-01-05T11:00:00",
          "2021-01-05T12:00:00",
          "2021-01-05T13:00:00",
          "2021-01-05T14:00:00",
          "2021-01-05T15:00:00",
          "2021-01-05T16:00:00",
          "2021-01-05T17:00:00",
          "2021-01-05T18:00:00",
          "2021-01-05T19:00:00",
          "2021-01-05T20:00:00",
          "2021-01-05T21:00:00",
          "2021-01-05T22:00:00",
          "2021-01-05T23:00:00",
          "2021-01-06T00:00:00",
          "2021-01-06T01:00:00",
          "2021-01-06T02:00:00",
          "2021-01-06T03:00:00",
          "2021-01-06T04:00:00",
          "2021-01-06T05:00:00",
          "2021-01-06T06:00:00",
          "2021-01-06T07:00:00",
          "2021-01-06T08:00:00",
          "2021-01-06T09:00:00",
          "2021-01-06T10:00:00",
          "2021-01-06T11:00:00",
          "2021-01-06T12:00:00",
          "2021-01-06T13:00:00",
          "2021-01-06T14:00:00",
          "2021-01-06T15:00:00",
          "2021-01-06T16:00:00",
          "2021-01-06T17:00:00",
          "2021-01-06T18:00:00",
          "2021-01-06T19:00:00",
          "2021-01-06T20:00:00",
          "2021-01-06T21:00:00",
          "2021-01-06T22:00:00",
          "2021-01-06T23:00:00",
          "2021-01-07T00:00:00",
          "2021-01-07T01:00:00",
          "2021-01-07T02:00:00",
          "2021-01-07T03:00:00",
          "2021-01-07T04:00:00",
          "2021-01-07T05:00:00",
          "2021-01-07T06:00:00",
          "2021-01-07T07:00:00",
          "2021-01-07T08:00:00",
          "2021-01-07T09:00:00",
          "2021-01-07T10:00:00",
          "2021-01-07T11:00:00",
          "2021-01-07T12:00:00",
          "2021-01-07T13:00:00",
          "2021-01-07T14:00:00",
          "2021-01-07T15:00:00",
          "2021-01-07T16:00:00",
          "2021-01-07T17:00:00",
          "2021-01-07T18:00:00",
          "2021-01-07T19:00:00",
          "2021-01-07T20:00:00",
          "2021-01-07T21:00:00",
          "2021-01-07T22:00:00",
          "2021-01-07T23:00:00",
          "2021-01-08T00:00:00",
          "2021-01-08T01:00:00",
          "2021-01-08T02:00:00",
          "2021-01-08T03:00:00",
          "2021-01-08T04:00:00",
          "2021-01-08T05:00:00",
          "2021-01-08T06:00:00",
          "2021-01-08T07:00:00",
          "2021-01-08T08:00:00",
          "2021-01-08T09:00:00",
          "2021-01-08T10:00:00",
          "2021-01-08T11:00:00",
          "2021-01-08T12:00:00",
          "2021-01-08T13:00:00",
          "2021-01-08T14:00:00",
          "2021-01-08T15:00:00",
          "2021-01-08T16:00:00",
          "2021-01-08T17:00:00",
          "2021-01-08T18:00:00",
          "2021-01-08T19:00:00",
          "2021-01-08T20:00:00",
          "2021-01-08T21:00:00",
          "2021-01-08T22:00:00",
          "2021-01-08T23:00:00",
          "2021-01-09T00:00:00",
          "2021-01-09T01:00:00",
          "2021-01-09T02:00:00",
          "2021-01-09T03:00:00",
          "2021-01-09T04:00:00",
          "2021-01-09T05:00:00",
          "2021-01-09T06:00:00",
          "2021-01-09T07:00:00",
          "2021-01-09T08:00:00",
          "2021-01-09T09:00:00",
          "2021-01-09T10:00:00",
          "2021-01-09T11:00:00",
          "2021-01-09T12:00:00",
          "2021-01-09T13:00:00",
          "2021-01-09T14:00:00",
          "2021-01-09T15:00:00",
          "2021-01-09T16:00:00",
          "2021-01-09T17:00:00",
          "2021-01-09T18:00:00",
          "2021-01-09T19:00:00",
          "2021-01-09T20:00:00",
          "2021-01-09T21:00:00",
          "2021-01-09T22:00:00",
          "2021-01-09T23:00:00",
          "2021-01-10T00:00:00",
          "2021-01-10T01:00:00",
          "2021-01-10T02:00:00",
          "2021-01-10T03:00:00",
          "2021-01-10T04:00:00",
          "2021-01-10T05:00:00",
          "2021-01-10T06:00:00",
          "2021-01-10T07:00:00",
          "2021-01-10T08:00:00",
          "2021-01-10T09:00:00",
          "2021-01-10T10:00:00",
          "2021-01-10T11:00:00",
          "2021-01-10T12:00:00",
          "2021-01-10T13:00:00",
          "2021-01-10T14:00:00",
          "2021-01-10T15:00:00",
          "2021-01-10T16:00:00",
          "2021-01-10T17:00:00",
          "2021-01-10T18:00:00",
          "2021-01-10T19:00:00",
          "2021-01-10T20:00:00",
          "2021-01-10T21:00:00",
          "2021-01-10T22:00:00",
          "2021-01-10T23:00:00"
         ],
         "y": [
          30.94773806740332,
          29.18462494118439,
          27.12595836307325,
          25.698476249363324,
          26.48067857902394,
          30.16637715092033,
          35.64794453295579,
          40.603047696978415,
          43.07732515421799,
          42.6830620886331,
          40.47973896804017,
          37.86863338886012,
          35.65813392863206,
          34.07931899493752,
          33.42535274419075,
          34.33660807205935,
          37.22517229136703,
          41.40276013106795,
          44.977988004145175,
          45.92966141091932,
          43.56166903338679,
          39.03110896885737,
          34.40382809966775,
          31.04743631972318,
          28.8063435758064,
          26.668031494840072,
          24.20715789123542,
          22.352903831045253,
          22.686647093343936,
          25.905491287374574,
          30.90548850677959,
          35.3683412595948,
          37.34404280214066,
          36.44951075533113,
          33.7490899302997,
          30.649104617801,
          27.963119670175917,
          25.92746396588701,
          24.84056896214904,
          25.34803300739965,
          27.86706771959095,
          31.714351762715676,
          35.00324668422535,
          35.71702737732776,
          33.163721422312754,
          28.504183426406968,
          23.807585996506248,
          20.44438968098425,
          18.26134039177235,
          16.247706589078575,
          13.979354978175824,
          12.38607477900122,
          13.049234726356762,
          16.665302308769277,
          22.129063291823872,
          27.120327358874547,
          29.68657900353585,
          29.44162848516469,
          27.4461386209406,
          25.10220744189328,
          23.218665735345738,
          22.026642687193863,
          21.818951881503093,
          23.23520782337632,
          26.686328720994403,
          31.48245024556745,
          35.73020427066908,
          37.40601445760676,
          35.81100222202664,
          32.099128454376704,
          28.332751884056982,
          25.875665662477832,
          24.56815993964203,
          23.39332198469368,
          21.92117189890997,
          21.07604331272352,
          22.43429260042001,
          26.68786554060403,
          32.727558948332955,
          38.22976265487053,
          41.2391405718825,
          41.36730533948477,
          39.67336208467393,
          37.55850115122269,
          35.831298743283575,
          34.72327868876514,
          34.5282876615532,
          35.887594185440975,
          39.21436738987093,
          43.82156055102587,
          47.81915379691796,
          49.18740829551511,
          47.2317259659204,
          43.11074064985799,
          38.891822242624215,
          35.944056008745065,
          34.11324553721093,
          32.38815159341251,
          30.34456563413553,
          28.91262810301105,
          29.674475765405983,
          33.32774771750929,
          38.76878829409323,
          43.67933290333507,
          46.10913616562999,
          45.6745974273412,
          43.43925971387995,
          40.80836245969917,
          38.59410736737649,
          37.03119095267817,
          36.41615638658882,
          37.392475160833975,
          40.37501467427026,
          44.6779168208545,
          48.411841929966,
          49.557230279397714,
          47.41917503366348,
          43.15553230480282,
          38.83244951094594,
          35.817373876819005,
          33.95408909701497,
          32.22899191816064,
          30.21520687626883,
          28.83994872567139,
          29.6822162111502,
          33.43634618908289,
          38.99526567215685,
          44.03722717669977,
          46.60848609603632,
          46.32197453103453,
          44.23784701721533,
          41.758077891838674,
          39.69176908814654,
          38.27072139080938,
          37.788821289745016,
          38.88715353563557,
          41.97849513148351,
          46.37521553825786,
          50.18653721529124,
          51.39180854199225,
          49.29538288976629,
          45.0547295078984,
          40.73595745570726,
          37.70681454169876,
          35.81170947609052,
          34.03796925613535,
          31.95993032920755,
          30.50627345162541,
          31.25768631915023,
          34.91038345502361,
          40.359321440453776,
          45.28489542250396,
          47.73557619467866,
          47.32654287437684,
          45.12018722810667,
          42.52066998617478,
          40.33918854302535,
          38.8095096594216,
          38.2273198716338,
          39.23530424797147,
          42.24760972521135,
          46.57771826079404,
          50.33568432846512,
          51.501389155875486,
          49.37940576698949,
          45.1271007198648,
          40.81015393641779,
          37.79555867620561,
          35.92664988391189,
          34.18937287906756,
          32.156390816591774,
          30.754440642802955,
          31.56202137196673,
          35.2729438434382,
          40.77957967079144,
          45.75959487708728,
          48.2586270297619,
          47.88896037467843,
          45.71007444685057,
          43.12324591562703,
          40.93686243600652,
          39.38200150003912,
          38.751826353167424,
          39.68670898589948,
          42.5987358120068,
          46.79962066639659,
          50.39797907419987,
          51.37261565345788,
          49.02741820999533,
          44.51948397054905,
          39.9146589528276,
          36.58055219193365,
          34.361572782219945,
          32.245201503571764,
          29.806095329908214,
          27.973434492623937,
          28.328595942338797,
          31.56868246594172,
          36.589745340876334,
          41.07348626535612,
          43.06989769189492,
          42.195896444074485,
          39.51582654197494,
          36.436011491756624,
          33.77001536716869,
          31.754166275107107,
          30.686894907221244,
          31.21379885301407,
          33.75208897805439,
          37.61844320046131,
          40.926222328576266,
          41.658700522802405,
          39.12390463790387,
          34.482688561039595,
          29.80422418731752,
          26.458971359049578,
          24.293675289245428,
          22.297603745624453,
          20.046622748467293,
          18.47052083919092,
          19.15066608078377,
          22.78352529742608,
          28.26388359692661,
          33.271550011961395,
          35.854008392412986,
          35.625068361300166,
          33.64539210609919,
          31.31707703539757,
          29.4489533213728,
          28.272149541769924,
          28.07947867972661,
          29.510554646539344,
          32.976295064213424,
          37.78683502447058,
          42.04880582909141,
          43.73863057482669,
          42.157430120157066,
          38.45916480550492,
          34.706192817930685,
          32.26230677385716
         ]
        },
        {
         "line": {
          "color": "#636EFA"
         },
         "mode": "lines",
         "name": "W",
         "showlegend": true,
         "type": "scatter",
         "x": [
          "2021-01-04T00:00:00+01:00",
          "2021-01-11T00:00:00+01:00"
         ],
         "y": [
          57.7,
          57.7
         ]
        },
        {
         "line": {
          "color": "#EF553B"
         },
         "mode": "lines",
         "name": "D",
         "showlegend": true,
         "type": "scatter",
         "x": [
          "2021-01-04T00:00:00+01:00",
          "2021-01-05T00:00:00+01:00"
         ],
         "y": [
          48.02,
          48.02
         ]
        },
        {
         "line": {
          "color": "#EF553B"
         },
         "mode": "lines",
         "showlegend": false,
         "type": "scatter",
         "x": [
          "2021-01-05T00:00:00+01:00",
          "2021-01-06T00:00:00+01:00"
         ],
         "y": [
          55.34,
          55.34
         ]
        },
        {
         "line": {
          "color": "#EF553B"
         },
         "mode": "lines",
         "showlegend": false,
         "type": "scatter",
         "x": [
          "2021-01-06T00:00:00+01:00",
          "2021-01-07T00:00:00+01:00"
         ],
         "y": [
          56.03,
          56.03
         ]
        },
        {
         "line": {
          "color": "#EF553B"
         },
         "mode": "lines",
         "showlegend": false,
         "type": "scatter",
         "x": [
          "2021-01-07T00:00:00+01:00",
          "2021-01-08T00:00:00+01:00"
         ],
         "y": [
          69.25,
          69.25
         ]
        },
        {
         "line": {
          "color": "#EF553B"
         },
         "mode": "lines",
         "showlegend": false,
         "type": "scatter",
         "x": [
          "2021-01-08T00:00:00+01:00",
          "2021-01-09T00:00:00+01:00"
         ],
         "y": [
          71.38,
          71.38
         ]
        },
        {
         "line": {
          "color": "#00CC96"
         },
         "mode": "lines",
         "name": "WE",
         "showlegend": true,
         "type": "scatter",
         "x": [
          "2021-01-09T00:00:00+01:00",
          "2021-01-11T00:00:00+01:00"
         ],
         "y": [
          51.95,
          51.95
         ]
        },
        {
         "line": {
          "color": "#EF553B"
         },
         "mode": "lines",
         "showlegend": false,
         "type": "scatter",
         "x": [
          "2021-01-09T00:00:00+01:00",
          "2021-01-10T00:00:00+01:00"
         ],
         "y": [
          55.31,
          55.31
         ]
        },
        {
         "line": {
          "color": "#EF553B"
         },
         "mode": "lines",
         "showlegend": false,
         "type": "scatter",
         "x": [
          "2021-01-10T00:00:00+01:00",
          "2021-01-11T00:00:00+01:00"
         ],
         "y": [
          48.59,
          48.59
         ]
        }
       ],
       "layout": {
        "template": {
         "data": {
          "bar": [
           {
            "error_x": {
             "color": "#2a3f5f"
            },
            "error_y": {
             "color": "#2a3f5f"
            },
            "marker": {
             "line": {
              "color": "#E5ECF6",
              "width": 0.5
             },
             "pattern": {
              "fillmode": "overlay",
              "size": 10,
              "solidity": 0.2
             }
            },
            "type": "bar"
           }
          ],
          "barpolar": [
           {
            "marker": {
             "line": {
              "color": "#E5ECF6",
              "width": 0.5
             },
             "pattern": {
              "fillmode": "overlay",
              "size": 10,
              "solidity": 0.2
             }
            },
            "type": "barpolar"
           }
          ],
          "carpet": [
           {
            "aaxis": {
             "endlinecolor": "#2a3f5f",
             "gridcolor": "white",
             "linecolor": "white",
             "minorgridcolor": "white",
             "startlinecolor": "#2a3f5f"
            },
            "baxis": {
             "endlinecolor": "#2a3f5f",
             "gridcolor": "white",
             "linecolor": "white",
             "minorgridcolor": "white",
             "startlinecolor": "#2a3f5f"
            },
            "type": "carpet"
           }
          ],
          "choropleth": [
           {
            "colorbar": {
             "outlinewidth": 0,
             "ticks": ""
            },
            "type": "choropleth"
           }
          ],
          "contour": [
           {
            "colorbar": {
             "outlinewidth": 0,
             "ticks": ""
            },
            "colorscale": [
             [
              0,
              "#0d0887"
             ],
             [
              0.1111111111111111,
              "#46039f"
             ],
             [
              0.2222222222222222,
              "#7201a8"
             ],
             [
              0.3333333333333333,
              "#9c179e"
             ],
             [
              0.4444444444444444,
              "#bd3786"
             ],
             [
              0.5555555555555556,
              "#d8576b"
             ],
             [
              0.6666666666666666,
              "#ed7953"
             ],
             [
              0.7777777777777778,
              "#fb9f3a"
             ],
             [
              0.8888888888888888,
              "#fdca26"
             ],
             [
              1,
              "#f0f921"
             ]
            ],
            "type": "contour"
           }
          ],
          "contourcarpet": [
           {
            "colorbar": {
             "outlinewidth": 0,
             "ticks": ""
            },
            "type": "contourcarpet"
           }
          ],
          "heatmap": [
           {
            "colorbar": {
             "outlinewidth": 0,
             "ticks": ""
            },
            "colorscale": [
             [
              0,
              "#0d0887"
             ],
             [
              0.1111111111111111,
              "#46039f"
             ],
             [
              0.2222222222222222,
              "#7201a8"
             ],
             [
              0.3333333333333333,
              "#9c179e"
             ],
             [
              0.4444444444444444,
              "#bd3786"
             ],
             [
              0.5555555555555556,
              "#d8576b"
             ],
             [
              0.6666666666666666,
              "#ed7953"
             ],
             [
              0.7777777777777778,
              "#fb9f3a"
             ],
             [
              0.8888888888888888,
              "#fdca26"
             ],
             [
              1,
              "#f0f921"
             ]
            ],
            "type": "heatmap"
           }
          ],
          "heatmapgl": [
           {
            "colorbar": {
             "outlinewidth": 0,
             "ticks": ""
            },
            "colorscale": [
             [
              0,
              "#0d0887"
             ],
             [
              0.1111111111111111,
              "#46039f"
             ],
             [
              0.2222222222222222,
              "#7201a8"
             ],
             [
              0.3333333333333333,
              "#9c179e"
             ],
             [
              0.4444444444444444,
              "#bd3786"
             ],
             [
              0.5555555555555556,
              "#d8576b"
             ],
             [
              0.6666666666666666,
              "#ed7953"
             ],
             [
              0.7777777777777778,
              "#fb9f3a"
             ],
             [
              0.8888888888888888,
              "#fdca26"
             ],
             [
              1,
              "#f0f921"
             ]
            ],
            "type": "heatmapgl"
           }
          ],
          "histogram": [
           {
            "marker": {
             "pattern": {
              "fillmode": "overlay",
              "size": 10,
              "solidity": 0.2
             }
            },
            "type": "histogram"
           }
          ],
          "histogram2d": [
           {
            "colorbar": {
             "outlinewidth": 0,
             "ticks": ""
            },
            "colorscale": [
             [
              0,
              "#0d0887"
             ],
             [
              0.1111111111111111,
              "#46039f"
             ],
             [
              0.2222222222222222,
              "#7201a8"
             ],
             [
              0.3333333333333333,
              "#9c179e"
             ],
             [
              0.4444444444444444,
              "#bd3786"
             ],
             [
              0.5555555555555556,
              "#d8576b"
             ],
             [
              0.6666666666666666,
              "#ed7953"
             ],
             [
              0.7777777777777778,
              "#fb9f3a"
             ],
             [
              0.8888888888888888,
              "#fdca26"
             ],
             [
              1,
              "#f0f921"
             ]
            ],
            "type": "histogram2d"
           }
          ],
          "histogram2dcontour": [
           {
            "colorbar": {
             "outlinewidth": 0,
             "ticks": ""
            },
            "colorscale": [
             [
              0,
              "#0d0887"
             ],
             [
              0.1111111111111111,
              "#46039f"
             ],
             [
              0.2222222222222222,
              "#7201a8"
             ],
             [
              0.3333333333333333,
              "#9c179e"
             ],
             [
              0.4444444444444444,
              "#bd3786"
             ],
             [
              0.5555555555555556,
              "#d8576b"
             ],
             [
              0.6666666666666666,
              "#ed7953"
             ],
             [
              0.7777777777777778,
              "#fb9f3a"
             ],
             [
              0.8888888888888888,
              "#fdca26"
             ],
             [
              1,
              "#f0f921"
             ]
            ],
            "type": "histogram2dcontour"
           }
          ],
          "mesh3d": [
           {
            "colorbar": {
             "outlinewidth": 0,
             "ticks": ""
            },
            "type": "mesh3d"
           }
          ],
          "parcoords": [
           {
            "line": {
             "colorbar": {
              "outlinewidth": 0,
              "ticks": ""
             }
            },
            "type": "parcoords"
           }
          ],
          "pie": [
           {
            "automargin": true,
            "type": "pie"
           }
          ],
          "scatter": [
           {
            "fillpattern": {
             "fillmode": "overlay",
             "size": 10,
             "solidity": 0.2
            },
            "type": "scatter"
           }
          ],
          "scatter3d": [
           {
            "line": {
             "colorbar": {
              "outlinewidth": 0,
              "ticks": ""
             }
            },
            "marker": {
             "colorbar": {
              "outlinewidth": 0,
              "ticks": ""
             }
            },
            "type": "scatter3d"
           }
          ],
          "scattercarpet": [
           {
            "marker": {
             "colorbar": {
              "outlinewidth": 0,
              "ticks": ""
             }
            },
            "type": "scattercarpet"
           }
          ],
          "scattergeo": [
           {
            "marker": {
             "colorbar": {
              "outlinewidth": 0,
              "ticks": ""
             }
            },
            "type": "scattergeo"
           }
          ],
          "scattergl": [
           {
            "marker": {
             "colorbar": {
              "outlinewidth": 0,
              "ticks": ""
             }
            },
            "type": "scattergl"
           }
          ],
          "scattermapbox": [
           {
            "marker": {
             "colorbar": {
              "outlinewidth": 0,
              "ticks": ""
             }
            },
            "type": "scattermapbox"
           }
          ],
          "scatterpolar": [
           {
            "marker": {
             "colorbar": {
              "outlinewidth": 0,
              "ticks": ""
             }
            },
            "type": "scatterpolar"
           }
          ],
          "scatterpolargl": [
           {
            "marker": {
             "colorbar": {
              "outlinewidth": 0,
              "ticks": ""
             }
            },
            "type": "scatterpolargl"
           }
          ],
          "scatterternary": [
           {
            "marker": {
             "colorbar": {
              "outlinewidth": 0,
              "ticks": ""
             }
            },
            "type": "scatterternary"
           }
          ],
          "surface": [
           {
            "colorbar": {
             "outlinewidth": 0,
             "ticks": ""
            },
            "colorscale": [
             [
              0,
              "#0d0887"
             ],
             [
              0.1111111111111111,
              "#46039f"
             ],
             [
              0.2222222222222222,
              "#7201a8"
             ],
             [
              0.3333333333333333,
              "#9c179e"
             ],
             [
              0.4444444444444444,
              "#bd3786"
             ],
             [
              0.5555555555555556,
              "#d8576b"
             ],
             [
              0.6666666666666666,
              "#ed7953"
             ],
             [
              0.7777777777777778,
              "#fb9f3a"
             ],
             [
              0.8888888888888888,
              "#fdca26"
             ],
             [
              1,
              "#f0f921"
             ]
            ],
            "type": "surface"
           }
          ],
          "table": [
           {
            "cells": {
             "fill": {
              "color": "#EBF0F8"
             },
             "line": {
              "color": "white"
             }
            },
            "header": {
             "fill": {
              "color": "#C8D4E3"
             },
             "line": {
              "color": "white"
             }
            },
            "type": "table"
           }
          ]
         },
         "layout": {
          "annotationdefaults": {
           "arrowcolor": "#2a3f5f",
           "arrowhead": 0,
           "arrowwidth": 1
          },
          "autotypenumbers": "strict",
          "coloraxis": {
           "colorbar": {
            "outlinewidth": 0,
            "ticks": ""
           }
          },
          "colorscale": {
           "diverging": [
            [
             0,
             "#8e0152"
            ],
            [
             0.1,
             "#c51b7d"
            ],
            [
             0.2,
             "#de77ae"
            ],
            [
             0.3,
             "#f1b6da"
            ],
            [
             0.4,
             "#fde0ef"
            ],
            [
             0.5,
             "#f7f7f7"
            ],
            [
             0.6,
             "#e6f5d0"
            ],
            [
             0.7,
             "#b8e186"
            ],
            [
             0.8,
             "#7fbc41"
            ],
            [
             0.9,
             "#4d9221"
            ],
            [
             1,
             "#276419"
            ]
           ],
           "sequential": [
            [
             0,
             "#0d0887"
            ],
            [
             0.1111111111111111,
             "#46039f"
            ],
            [
             0.2222222222222222,
             "#7201a8"
            ],
            [
             0.3333333333333333,
             "#9c179e"
            ],
            [
             0.4444444444444444,
             "#bd3786"
            ],
            [
             0.5555555555555556,
             "#d8576b"
            ],
            [
             0.6666666666666666,
             "#ed7953"
            ],
            [
             0.7777777777777778,
             "#fb9f3a"
            ],
            [
             0.8888888888888888,
             "#fdca26"
            ],
            [
             1,
             "#f0f921"
            ]
           ],
           "sequentialminus": [
            [
             0,
             "#0d0887"
            ],
            [
             0.1111111111111111,
             "#46039f"
            ],
            [
             0.2222222222222222,
             "#7201a8"
            ],
            [
             0.3333333333333333,
             "#9c179e"
            ],
            [
             0.4444444444444444,
             "#bd3786"
            ],
            [
             0.5555555555555556,
             "#d8576b"
            ],
            [
             0.6666666666666666,
             "#ed7953"
            ],
            [
             0.7777777777777778,
             "#fb9f3a"
            ],
            [
             0.8888888888888888,
             "#fdca26"
            ],
            [
             1,
             "#f0f921"
            ]
           ]
          },
          "colorway": [
           "#636efa",
           "#EF553B",
           "#00cc96",
           "#ab63fa",
           "#FFA15A",
           "#19d3f3",
           "#FF6692",
           "#B6E880",
           "#FF97FF",
           "#FECB52"
          ],
          "font": {
           "color": "#2a3f5f"
          },
          "geo": {
           "bgcolor": "white",
           "lakecolor": "white",
           "landcolor": "#E5ECF6",
           "showlakes": true,
           "showland": true,
           "subunitcolor": "white"
          },
          "hoverlabel": {
           "align": "left"
          },
          "hovermode": "closest",
          "mapbox": {
           "style": "light"
          },
          "paper_bgcolor": "white",
          "plot_bgcolor": "#E5ECF6",
          "polar": {
           "angularaxis": {
            "gridcolor": "white",
            "linecolor": "white",
            "ticks": ""
           },
           "bgcolor": "#E5ECF6",
           "radialaxis": {
            "gridcolor": "white",
            "linecolor": "white",
            "ticks": ""
           }
          },
          "scene": {
           "xaxis": {
            "backgroundcolor": "#E5ECF6",
            "gridcolor": "white",
            "gridwidth": 2,
            "linecolor": "white",
            "showbackground": true,
            "ticks": "",
            "zerolinecolor": "white"
           },
           "yaxis": {
            "backgroundcolor": "#E5ECF6",
            "gridcolor": "white",
            "gridwidth": 2,
            "linecolor": "white",
            "showbackground": true,
            "ticks": "",
            "zerolinecolor": "white"
           },
           "zaxis": {
            "backgroundcolor": "#E5ECF6",
            "gridcolor": "white",
            "gridwidth": 2,
            "linecolor": "white",
            "showbackground": true,
            "ticks": "",
            "zerolinecolor": "white"
           }
          },
          "shapedefaults": {
           "line": {
            "color": "#2a3f5f"
           }
          },
          "ternary": {
           "aaxis": {
            "gridcolor": "white",
            "linecolor": "white",
            "ticks": ""
           },
           "baxis": {
            "gridcolor": "white",
            "linecolor": "white",
            "ticks": ""
           },
           "bgcolor": "#E5ECF6",
           "caxis": {
            "gridcolor": "white",
            "linecolor": "white",
            "ticks": ""
           }
          },
          "title": {
           "x": 0.05
          },
          "xaxis": {
           "automargin": true,
           "gridcolor": "white",
           "linecolor": "white",
           "ticks": "",
           "title": {
            "standoff": 15
           },
           "zerolinecolor": "white",
           "zerolinewidth": 2
          },
          "yaxis": {
           "automargin": true,
           "gridcolor": "white",
           "linecolor": "white",
           "ticks": "",
           "title": {
            "standoff": 15
           },
           "zerolinecolor": "white",
           "zerolinewidth": 2
          }
         }
        }
       }
      }
     },
     "metadata": {},
     "output_type": "display_data"
    },
    {
     "name": "stdout",
     "output_type": "stream",
     "text": [
      "No arbitrage opportunities found in forwards\n",
      "Optimum found\n"
     ]
    },
    {
     "data": {
      "application/vnd.plotly.v1+json": {
       "config": {
        "plotlyServerURL": "https://plot.ly"
       },
       "data": [
        {
         "line": {
          "color": "black"
         },
         "mode": "lines",
         "name": "forecast",
         "type": "scatter",
         "x": [
          "2021-01-01T00:00:00",
          "2021-01-01T01:00:00",
          "2021-01-01T02:00:00",
          "2021-01-01T03:00:00",
          "2021-01-01T04:00:00",
          "2021-01-01T05:00:00",
          "2021-01-01T06:00:00",
          "2021-01-01T07:00:00",
          "2021-01-01T08:00:00",
          "2021-01-01T09:00:00",
          "2021-01-01T10:00:00",
          "2021-01-01T11:00:00",
          "2021-01-01T12:00:00",
          "2021-01-01T13:00:00",
          "2021-01-01T14:00:00",
          "2021-01-01T15:00:00",
          "2021-01-01T16:00:00",
          "2021-01-01T17:00:00",
          "2021-01-01T18:00:00",
          "2021-01-01T19:00:00",
          "2021-01-01T20:00:00",
          "2021-01-01T21:00:00",
          "2021-01-01T22:00:00",
          "2021-01-01T23:00:00",
          "2021-01-02T00:00:00",
          "2021-01-02T01:00:00",
          "2021-01-02T02:00:00",
          "2021-01-02T03:00:00",
          "2021-01-02T04:00:00",
          "2021-01-02T05:00:00",
          "2021-01-02T06:00:00",
          "2021-01-02T07:00:00",
          "2021-01-02T08:00:00",
          "2021-01-02T09:00:00",
          "2021-01-02T10:00:00",
          "2021-01-02T11:00:00",
          "2021-01-02T12:00:00",
          "2021-01-02T13:00:00",
          "2021-01-02T14:00:00",
          "2021-01-02T15:00:00",
          "2021-01-02T16:00:00",
          "2021-01-02T17:00:00",
          "2021-01-02T18:00:00",
          "2021-01-02T19:00:00",
          "2021-01-02T20:00:00",
          "2021-01-02T21:00:00",
          "2021-01-02T22:00:00",
          "2021-01-02T23:00:00",
          "2021-01-03T00:00:00",
          "2021-01-03T01:00:00",
          "2021-01-03T02:00:00",
          "2021-01-03T03:00:00",
          "2021-01-03T04:00:00",
          "2021-01-03T05:00:00",
          "2021-01-03T06:00:00",
          "2021-01-03T07:00:00",
          "2021-01-03T08:00:00",
          "2021-01-03T09:00:00",
          "2021-01-03T10:00:00",
          "2021-01-03T11:00:00",
          "2021-01-03T12:00:00",
          "2021-01-03T13:00:00",
          "2021-01-03T14:00:00",
          "2021-01-03T15:00:00",
          "2021-01-03T16:00:00",
          "2021-01-03T17:00:00",
          "2021-01-03T18:00:00",
          "2021-01-03T19:00:00",
          "2021-01-03T20:00:00",
          "2021-01-03T21:00:00",
          "2021-01-03T22:00:00",
          "2021-01-03T23:00:00",
          "2021-01-04T00:00:00",
          "2021-01-04T01:00:00",
          "2021-01-04T02:00:00",
          "2021-01-04T03:00:00",
          "2021-01-04T04:00:00",
          "2021-01-04T05:00:00",
          "2021-01-04T06:00:00",
          "2021-01-04T07:00:00",
          "2021-01-04T08:00:00",
          "2021-01-04T09:00:00",
          "2021-01-04T10:00:00",
          "2021-01-04T11:00:00",
          "2021-01-04T12:00:00",
          "2021-01-04T13:00:00",
          "2021-01-04T14:00:00",
          "2021-01-04T15:00:00",
          "2021-01-04T16:00:00",
          "2021-01-04T17:00:00",
          "2021-01-04T18:00:00",
          "2021-01-04T19:00:00",
          "2021-01-04T20:00:00",
          "2021-01-04T21:00:00",
          "2021-01-04T22:00:00",
          "2021-01-04T23:00:00",
          "2021-01-05T00:00:00",
          "2021-01-05T01:00:00",
          "2021-01-05T02:00:00",
          "2021-01-05T03:00:00",
          "2021-01-05T04:00:00",
          "2021-01-05T05:00:00",
          "2021-01-05T06:00:00",
          "2021-01-05T07:00:00",
          "2021-01-05T08:00:00",
          "2021-01-05T09:00:00",
          "2021-01-05T10:00:00",
          "2021-01-05T11:00:00",
          "2021-01-05T12:00:00",
          "2021-01-05T13:00:00",
          "2021-01-05T14:00:00",
          "2021-01-05T15:00:00",
          "2021-01-05T16:00:00",
          "2021-01-05T17:00:00",
          "2021-01-05T18:00:00",
          "2021-01-05T19:00:00",
          "2021-01-05T20:00:00",
          "2021-01-05T21:00:00",
          "2021-01-05T22:00:00",
          "2021-01-05T23:00:00",
          "2021-01-06T00:00:00",
          "2021-01-06T01:00:00",
          "2021-01-06T02:00:00",
          "2021-01-06T03:00:00",
          "2021-01-06T04:00:00",
          "2021-01-06T05:00:00",
          "2021-01-06T06:00:00",
          "2021-01-06T07:00:00",
          "2021-01-06T08:00:00",
          "2021-01-06T09:00:00",
          "2021-01-06T10:00:00",
          "2021-01-06T11:00:00",
          "2021-01-06T12:00:00",
          "2021-01-06T13:00:00",
          "2021-01-06T14:00:00",
          "2021-01-06T15:00:00",
          "2021-01-06T16:00:00",
          "2021-01-06T17:00:00",
          "2021-01-06T18:00:00",
          "2021-01-06T19:00:00",
          "2021-01-06T20:00:00",
          "2021-01-06T21:00:00",
          "2021-01-06T22:00:00",
          "2021-01-06T23:00:00",
          "2021-01-07T00:00:00",
          "2021-01-07T01:00:00",
          "2021-01-07T02:00:00",
          "2021-01-07T03:00:00",
          "2021-01-07T04:00:00",
          "2021-01-07T05:00:00",
          "2021-01-07T06:00:00",
          "2021-01-07T07:00:00",
          "2021-01-07T08:00:00",
          "2021-01-07T09:00:00",
          "2021-01-07T10:00:00",
          "2021-01-07T11:00:00",
          "2021-01-07T12:00:00",
          "2021-01-07T13:00:00",
          "2021-01-07T14:00:00",
          "2021-01-07T15:00:00",
          "2021-01-07T16:00:00",
          "2021-01-07T17:00:00",
          "2021-01-07T18:00:00",
          "2021-01-07T19:00:00",
          "2021-01-07T20:00:00",
          "2021-01-07T21:00:00",
          "2021-01-07T22:00:00",
          "2021-01-07T23:00:00",
          "2021-01-08T00:00:00",
          "2021-01-08T01:00:00",
          "2021-01-08T02:00:00",
          "2021-01-08T03:00:00",
          "2021-01-08T04:00:00",
          "2021-01-08T05:00:00",
          "2021-01-08T06:00:00",
          "2021-01-08T07:00:00",
          "2021-01-08T08:00:00",
          "2021-01-08T09:00:00",
          "2021-01-08T10:00:00",
          "2021-01-08T11:00:00",
          "2021-01-08T12:00:00",
          "2021-01-08T13:00:00",
          "2021-01-08T14:00:00",
          "2021-01-08T15:00:00",
          "2021-01-08T16:00:00",
          "2021-01-08T17:00:00",
          "2021-01-08T18:00:00",
          "2021-01-08T19:00:00",
          "2021-01-08T20:00:00",
          "2021-01-08T21:00:00",
          "2021-01-08T22:00:00",
          "2021-01-08T23:00:00",
          "2021-01-09T00:00:00",
          "2021-01-09T01:00:00",
          "2021-01-09T02:00:00",
          "2021-01-09T03:00:00",
          "2021-01-09T04:00:00",
          "2021-01-09T05:00:00",
          "2021-01-09T06:00:00",
          "2021-01-09T07:00:00",
          "2021-01-09T08:00:00",
          "2021-01-09T09:00:00",
          "2021-01-09T10:00:00",
          "2021-01-09T11:00:00",
          "2021-01-09T12:00:00",
          "2021-01-09T13:00:00",
          "2021-01-09T14:00:00",
          "2021-01-09T15:00:00",
          "2021-01-09T16:00:00",
          "2021-01-09T17:00:00",
          "2021-01-09T18:00:00",
          "2021-01-09T19:00:00",
          "2021-01-09T20:00:00",
          "2021-01-09T21:00:00",
          "2021-01-09T22:00:00",
          "2021-01-09T23:00:00",
          "2021-01-10T00:00:00",
          "2021-01-10T01:00:00",
          "2021-01-10T02:00:00",
          "2021-01-10T03:00:00",
          "2021-01-10T04:00:00",
          "2021-01-10T05:00:00",
          "2021-01-10T06:00:00",
          "2021-01-10T07:00:00",
          "2021-01-10T08:00:00",
          "2021-01-10T09:00:00",
          "2021-01-10T10:00:00",
          "2021-01-10T11:00:00",
          "2021-01-10T12:00:00",
          "2021-01-10T13:00:00",
          "2021-01-10T14:00:00",
          "2021-01-10T15:00:00",
          "2021-01-10T16:00:00",
          "2021-01-10T17:00:00",
          "2021-01-10T18:00:00",
          "2021-01-10T19:00:00",
          "2021-01-10T20:00:00",
          "2021-01-10T21:00:00",
          "2021-01-10T22:00:00",
          "2021-01-10T23:00:00"
         ],
         "y": [
          30.94774141659698,
          29.18462850697527,
          27.12595868714967,
          25.698480511072784,
          26.480680118606532,
          30.166378052251392,
          35.64794898516772,
          40.60304783396697,
          43.07732760211423,
          42.68306185395996,
          40.479741637234326,
          37.868636033466714,
          35.65813389239159,
          34.07932075860761,
          33.42535358171453,
          34.336608299280165,
          37.2251730342904,
          41.402760816780464,
          44.97798797523634,
          45.9296613107891,
          43.56166870999716,
          39.03110938941434,
          34.403829132772735,
          31.047436344110103,
          28.8063473063136,
          26.668032870891203,
          24.207158035312258,
          22.352904273841713,
          22.686648695186783,
          25.905492032831173,
          30.905488327865697,
          35.36834262466278,
          37.344043388864925,
          36.449511202407145,
          33.7490901449506,
          30.649104285167038,
          27.963120345763752,
          25.927464710710677,
          24.840569844873063,
          25.348035280437305,
          27.867071459110097,
          31.71435151993303,
          35.003246803359154,
          35.71703019302481,
          33.16372258898539,
          28.5041856448703,
          23.807588414622,
          20.444390550386785,
          18.261346070880133,
          16.247706410345224,
          13.979355457499139,
          12.38608360989214,
          13.049234844095217,
          16.665303760372684,
          22.12906617997357,
          27.120331469248217,
          29.686581066163658,
          29.44162943976975,
          27.446138878582804,
          25.102211885137354,
          23.218665661584104,
          22.02664568288044,
          21.81895213130464,
          23.235207679812007,
          26.686332683629413,
          31.482451044520946,
          35.73020389061778,
          37.40601535876933,
          35.8110019037639,
          32.099129010704736,
          29.583579213984425,
          37.40024269190126,
          37.34319101843804,
          36.170880232252394,
          34.69905959144045,
          33.85308471509812,
          35.21054123309206,
          39.46297205924869,
          45.5030166965861,
          51.005708932598694,
          54.01668902074366,
          54.14412258404895,
          52.45027396485785,
          50.3333665726256,
          48.607942335619825,
          47.50002686144651,
          47.305601141762835,
          48.66478522555701,
          51.9920247309936,
          56.598809571520725,
          60.59623614257434,
          61.965072067147396,
          60.010381817146964,
          55.888090370000874,
          51.685880429856894,
          51.89654134686476,
          50.08478605788209,
          48.357431177498974,
          46.31455595250113,
          44.882898182951706,
          45.6451613355432,
          49.2957476579295,
          54.74038029030808,
          59.6494130802351,
          62.078749515220174,
          61.64422566627597,
          59.40964570754692,
          56.77841922757397,
          54.56433878502493,
          53.000015286887034,
          52.38756839587604,
          53.361590132304826,
          56.34494678314477,
          60.64765309208587,
          64.38220608106444,
          65.52681913044393,
          63.38898671759229,
          59.1257291738148,
          54.580191228908376,
          51.78993188350822,
          49.704333356392226,
          47.97769010010169,
          45.9656237274361,
          44.58966136731995,
          45.43130300369089,
          49.18500066466586,
          54.74625076164209,
          59.784641600371344,
          62.35870536964849,
          62.07248305508432,
          59.98800007495975,
          57.50673782062733,
          55.44121069366514,
          54.019686385350255,
          53.539798967479456,
          54.636244145948034,
          57.72813549563388,
          62.12358837403042,
          65.93743645949903,
          67.14052591775811,
          65.04457126355248,
          60.803888529001334,
          57.1325509854833,
          65.20768101657276,
          63.95808166779738,
          62.18524584666007,
          60.106143709246886,
          58.65165042346753,
          59.40660269197171,
          63.05615294662887,
          68.50542755625587,
          73.43113151756403,
          75.88333637439514,
          75.47234613077376,
          73.26645201345234,
          70.66830288800352,
          68.48530191049362,
          66.95579703698299,
          66.37370493601554,
          67.3815084937817,
          70.39450336190868,
          74.72266666162454,
          78.4828660651237,
          79.64840695282423,
          77.52672756857791,
          73.2746218276393,
          68.8833404109355,
          67.95446314678692,
          66.01135584857849,
          64.27362824983169,
          62.24160926102548,
          60.83841638587233,
          61.645873470696024,
          65.35715538019413,
          70.86411138209424,
          75.84455445182861,
          78.34271936795072,
          77.97360716848829,
          75.79474394554238,
          73.20620361295558,
          71.02154409115357,
          69.46641283226639,
          68.83698555901296,
          69.77119409872482,
          72.6841883834717,
          76.88340385374575,
          80.48247310112117,
          81.4571187388849,
          79.11135888854922,
          74.60421538905,
          68.38066340217767,
          58.2679931143585,
          54.43059932852642,
          52.31324836949879,
          49.874679018686464,
          48.04092712810685,
          48.39703484067582,
          51.63683152411943,
          56.658252549160366,
          61.14118740482007,
          63.139357517819626,
          62.264751890284,
          59.58408592962166,
          56.50404237907886,
          53.839578055897256,
          51.82456200595656,
          50.75405706978551,
          51.282855617607154,
          53.81971994943249,
          57.68784019365528,
          60.995350589983005,
          61.72721185892994,
          59.193662407043085,
          54.551568090933586,
          49.48660314949442,
          44.641326887767136,
          42.089725380122275,
          40.092760451591104,
          37.84173788038687,
          36.2656348355845,
          36.94506851610015,
          40.579643646718026,
          46.05918582215894,
          51.06575206777583,
          53.648475155809614,
          53.41957899073592,
          51.440734817211656,
          49.11245428279174,
          47.24393905044143,
          46.068658698794074,
          45.87578696935741,
          47.306620199099534,
          50.77093933514815,
          55.58225038594138,
          59.84269411061654,
          61.53364758634549,
          59.95357327493131,
          56.25425100876671,
          52.501560627748205,
          32.262306492635005
         ]
        },
        {
         "line": {
          "color": "#636EFA"
         },
         "mode": "lines",
         "name": "W",
         "showlegend": true,
         "type": "scatter",
         "x": [
          "2021-01-04T00:00:00+01:00",
          "2021-01-11T00:00:00+01:00"
         ],
         "y": [
          57.7,
          57.7
         ]
        },
        {
         "line": {
          "color": "#EF553B"
         },
         "mode": "lines",
         "name": "D",
         "showlegend": true,
         "type": "scatter",
         "x": [
          "2021-01-04T00:00:00+01:00",
          "2021-01-05T00:00:00+01:00"
         ],
         "y": [
          48.02,
          48.02
         ]
        },
        {
         "line": {
          "color": "#EF553B"
         },
         "mode": "lines",
         "showlegend": false,
         "type": "scatter",
         "x": [
          "2021-01-05T00:00:00+01:00",
          "2021-01-06T00:00:00+01:00"
         ],
         "y": [
          55.34,
          55.34
         ]
        },
        {
         "line": {
          "color": "#EF553B"
         },
         "mode": "lines",
         "showlegend": false,
         "type": "scatter",
         "x": [
          "2021-01-06T00:00:00+01:00",
          "2021-01-07T00:00:00+01:00"
         ],
         "y": [
          56.03,
          56.03
         ]
        },
        {
         "line": {
          "color": "#EF553B"
         },
         "mode": "lines",
         "showlegend": false,
         "type": "scatter",
         "x": [
          "2021-01-07T00:00:00+01:00",
          "2021-01-08T00:00:00+01:00"
         ],
         "y": [
          69.25,
          69.25
         ]
        },
        {
         "line": {
          "color": "#EF553B"
         },
         "mode": "lines",
         "showlegend": false,
         "type": "scatter",
         "x": [
          "2021-01-08T00:00:00+01:00",
          "2021-01-09T00:00:00+01:00"
         ],
         "y": [
          71.38,
          71.38
         ]
        },
        {
         "line": {
          "color": "#00CC96"
         },
         "mode": "lines",
         "name": "WE",
         "showlegend": true,
         "type": "scatter",
         "x": [
          "2021-01-09T00:00:00+01:00",
          "2021-01-11T00:00:00+01:00"
         ],
         "y": [
          51.95,
          51.95
         ]
        },
        {
         "line": {
          "color": "#EF553B"
         },
         "mode": "lines",
         "showlegend": false,
         "type": "scatter",
         "x": [
          "2021-01-09T00:00:00+01:00",
          "2021-01-10T00:00:00+01:00"
         ],
         "y": [
          55.31,
          55.31
         ]
        },
        {
         "line": {
          "color": "#EF553B"
         },
         "mode": "lines",
         "showlegend": false,
         "type": "scatter",
         "x": [
          "2021-01-10T00:00:00+01:00",
          "2021-01-11T00:00:00+01:00"
         ],
         "y": [
          48.59,
          48.59
         ]
        }
       ],
       "layout": {
        "template": {
         "data": {
          "bar": [
           {
            "error_x": {
             "color": "#2a3f5f"
            },
            "error_y": {
             "color": "#2a3f5f"
            },
            "marker": {
             "line": {
              "color": "#E5ECF6",
              "width": 0.5
             },
             "pattern": {
              "fillmode": "overlay",
              "size": 10,
              "solidity": 0.2
             }
            },
            "type": "bar"
           }
          ],
          "barpolar": [
           {
            "marker": {
             "line": {
              "color": "#E5ECF6",
              "width": 0.5
             },
             "pattern": {
              "fillmode": "overlay",
              "size": 10,
              "solidity": 0.2
             }
            },
            "type": "barpolar"
           }
          ],
          "carpet": [
           {
            "aaxis": {
             "endlinecolor": "#2a3f5f",
             "gridcolor": "white",
             "linecolor": "white",
             "minorgridcolor": "white",
             "startlinecolor": "#2a3f5f"
            },
            "baxis": {
             "endlinecolor": "#2a3f5f",
             "gridcolor": "white",
             "linecolor": "white",
             "minorgridcolor": "white",
             "startlinecolor": "#2a3f5f"
            },
            "type": "carpet"
           }
          ],
          "choropleth": [
           {
            "colorbar": {
             "outlinewidth": 0,
             "ticks": ""
            },
            "type": "choropleth"
           }
          ],
          "contour": [
           {
            "colorbar": {
             "outlinewidth": 0,
             "ticks": ""
            },
            "colorscale": [
             [
              0,
              "#0d0887"
             ],
             [
              0.1111111111111111,
              "#46039f"
             ],
             [
              0.2222222222222222,
              "#7201a8"
             ],
             [
              0.3333333333333333,
              "#9c179e"
             ],
             [
              0.4444444444444444,
              "#bd3786"
             ],
             [
              0.5555555555555556,
              "#d8576b"
             ],
             [
              0.6666666666666666,
              "#ed7953"
             ],
             [
              0.7777777777777778,
              "#fb9f3a"
             ],
             [
              0.8888888888888888,
              "#fdca26"
             ],
             [
              1,
              "#f0f921"
             ]
            ],
            "type": "contour"
           }
          ],
          "contourcarpet": [
           {
            "colorbar": {
             "outlinewidth": 0,
             "ticks": ""
            },
            "type": "contourcarpet"
           }
          ],
          "heatmap": [
           {
            "colorbar": {
             "outlinewidth": 0,
             "ticks": ""
            },
            "colorscale": [
             [
              0,
              "#0d0887"
             ],
             [
              0.1111111111111111,
              "#46039f"
             ],
             [
              0.2222222222222222,
              "#7201a8"
             ],
             [
              0.3333333333333333,
              "#9c179e"
             ],
             [
              0.4444444444444444,
              "#bd3786"
             ],
             [
              0.5555555555555556,
              "#d8576b"
             ],
             [
              0.6666666666666666,
              "#ed7953"
             ],
             [
              0.7777777777777778,
              "#fb9f3a"
             ],
             [
              0.8888888888888888,
              "#fdca26"
             ],
             [
              1,
              "#f0f921"
             ]
            ],
            "type": "heatmap"
           }
          ],
          "heatmapgl": [
           {
            "colorbar": {
             "outlinewidth": 0,
             "ticks": ""
            },
            "colorscale": [
             [
              0,
              "#0d0887"
             ],
             [
              0.1111111111111111,
              "#46039f"
             ],
             [
              0.2222222222222222,
              "#7201a8"
             ],
             [
              0.3333333333333333,
              "#9c179e"
             ],
             [
              0.4444444444444444,
              "#bd3786"
             ],
             [
              0.5555555555555556,
              "#d8576b"
             ],
             [
              0.6666666666666666,
              "#ed7953"
             ],
             [
              0.7777777777777778,
              "#fb9f3a"
             ],
             [
              0.8888888888888888,
              "#fdca26"
             ],
             [
              1,
              "#f0f921"
             ]
            ],
            "type": "heatmapgl"
           }
          ],
          "histogram": [
           {
            "marker": {
             "pattern": {
              "fillmode": "overlay",
              "size": 10,
              "solidity": 0.2
             }
            },
            "type": "histogram"
           }
          ],
          "histogram2d": [
           {
            "colorbar": {
             "outlinewidth": 0,
             "ticks": ""
            },
            "colorscale": [
             [
              0,
              "#0d0887"
             ],
             [
              0.1111111111111111,
              "#46039f"
             ],
             [
              0.2222222222222222,
              "#7201a8"
             ],
             [
              0.3333333333333333,
              "#9c179e"
             ],
             [
              0.4444444444444444,
              "#bd3786"
             ],
             [
              0.5555555555555556,
              "#d8576b"
             ],
             [
              0.6666666666666666,
              "#ed7953"
             ],
             [
              0.7777777777777778,
              "#fb9f3a"
             ],
             [
              0.8888888888888888,
              "#fdca26"
             ],
             [
              1,
              "#f0f921"
             ]
            ],
            "type": "histogram2d"
           }
          ],
          "histogram2dcontour": [
           {
            "colorbar": {
             "outlinewidth": 0,
             "ticks": ""
            },
            "colorscale": [
             [
              0,
              "#0d0887"
             ],
             [
              0.1111111111111111,
              "#46039f"
             ],
             [
              0.2222222222222222,
              "#7201a8"
             ],
             [
              0.3333333333333333,
              "#9c179e"
             ],
             [
              0.4444444444444444,
              "#bd3786"
             ],
             [
              0.5555555555555556,
              "#d8576b"
             ],
             [
              0.6666666666666666,
              "#ed7953"
             ],
             [
              0.7777777777777778,
              "#fb9f3a"
             ],
             [
              0.8888888888888888,
              "#fdca26"
             ],
             [
              1,
              "#f0f921"
             ]
            ],
            "type": "histogram2dcontour"
           }
          ],
          "mesh3d": [
           {
            "colorbar": {
             "outlinewidth": 0,
             "ticks": ""
            },
            "type": "mesh3d"
           }
          ],
          "parcoords": [
           {
            "line": {
             "colorbar": {
              "outlinewidth": 0,
              "ticks": ""
             }
            },
            "type": "parcoords"
           }
          ],
          "pie": [
           {
            "automargin": true,
            "type": "pie"
           }
          ],
          "scatter": [
           {
            "fillpattern": {
             "fillmode": "overlay",
             "size": 10,
             "solidity": 0.2
            },
            "type": "scatter"
           }
          ],
          "scatter3d": [
           {
            "line": {
             "colorbar": {
              "outlinewidth": 0,
              "ticks": ""
             }
            },
            "marker": {
             "colorbar": {
              "outlinewidth": 0,
              "ticks": ""
             }
            },
            "type": "scatter3d"
           }
          ],
          "scattercarpet": [
           {
            "marker": {
             "colorbar": {
              "outlinewidth": 0,
              "ticks": ""
             }
            },
            "type": "scattercarpet"
           }
          ],
          "scattergeo": [
           {
            "marker": {
             "colorbar": {
              "outlinewidth": 0,
              "ticks": ""
             }
            },
            "type": "scattergeo"
           }
          ],
          "scattergl": [
           {
            "marker": {
             "colorbar": {
              "outlinewidth": 0,
              "ticks": ""
             }
            },
            "type": "scattergl"
           }
          ],
          "scattermapbox": [
           {
            "marker": {
             "colorbar": {
              "outlinewidth": 0,
              "ticks": ""
             }
            },
            "type": "scattermapbox"
           }
          ],
          "scatterpolar": [
           {
            "marker": {
             "colorbar": {
              "outlinewidth": 0,
              "ticks": ""
             }
            },
            "type": "scatterpolar"
           }
          ],
          "scatterpolargl": [
           {
            "marker": {
             "colorbar": {
              "outlinewidth": 0,
              "ticks": ""
             }
            },
            "type": "scatterpolargl"
           }
          ],
          "scatterternary": [
           {
            "marker": {
             "colorbar": {
              "outlinewidth": 0,
              "ticks": ""
             }
            },
            "type": "scatterternary"
           }
          ],
          "surface": [
           {
            "colorbar": {
             "outlinewidth": 0,
             "ticks": ""
            },
            "colorscale": [
             [
              0,
              "#0d0887"
             ],
             [
              0.1111111111111111,
              "#46039f"
             ],
             [
              0.2222222222222222,
              "#7201a8"
             ],
             [
              0.3333333333333333,
              "#9c179e"
             ],
             [
              0.4444444444444444,
              "#bd3786"
             ],
             [
              0.5555555555555556,
              "#d8576b"
             ],
             [
              0.6666666666666666,
              "#ed7953"
             ],
             [
              0.7777777777777778,
              "#fb9f3a"
             ],
             [
              0.8888888888888888,
              "#fdca26"
             ],
             [
              1,
              "#f0f921"
             ]
            ],
            "type": "surface"
           }
          ],
          "table": [
           {
            "cells": {
             "fill": {
              "color": "#EBF0F8"
             },
             "line": {
              "color": "white"
             }
            },
            "header": {
             "fill": {
              "color": "#C8D4E3"
             },
             "line": {
              "color": "white"
             }
            },
            "type": "table"
           }
          ]
         },
         "layout": {
          "annotationdefaults": {
           "arrowcolor": "#2a3f5f",
           "arrowhead": 0,
           "arrowwidth": 1
          },
          "autotypenumbers": "strict",
          "coloraxis": {
           "colorbar": {
            "outlinewidth": 0,
            "ticks": ""
           }
          },
          "colorscale": {
           "diverging": [
            [
             0,
             "#8e0152"
            ],
            [
             0.1,
             "#c51b7d"
            ],
            [
             0.2,
             "#de77ae"
            ],
            [
             0.3,
             "#f1b6da"
            ],
            [
             0.4,
             "#fde0ef"
            ],
            [
             0.5,
             "#f7f7f7"
            ],
            [
             0.6,
             "#e6f5d0"
            ],
            [
             0.7,
             "#b8e186"
            ],
            [
             0.8,
             "#7fbc41"
            ],
            [
             0.9,
             "#4d9221"
            ],
            [
             1,
             "#276419"
            ]
           ],
           "sequential": [
            [
             0,
             "#0d0887"
            ],
            [
             0.1111111111111111,
             "#46039f"
            ],
            [
             0.2222222222222222,
             "#7201a8"
            ],
            [
             0.3333333333333333,
             "#9c179e"
            ],
            [
             0.4444444444444444,
             "#bd3786"
            ],
            [
             0.5555555555555556,
             "#d8576b"
            ],
            [
             0.6666666666666666,
             "#ed7953"
            ],
            [
             0.7777777777777778,
             "#fb9f3a"
            ],
            [
             0.8888888888888888,
             "#fdca26"
            ],
            [
             1,
             "#f0f921"
            ]
           ],
           "sequentialminus": [
            [
             0,
             "#0d0887"
            ],
            [
             0.1111111111111111,
             "#46039f"
            ],
            [
             0.2222222222222222,
             "#7201a8"
            ],
            [
             0.3333333333333333,
             "#9c179e"
            ],
            [
             0.4444444444444444,
             "#bd3786"
            ],
            [
             0.5555555555555556,
             "#d8576b"
            ],
            [
             0.6666666666666666,
             "#ed7953"
            ],
            [
             0.7777777777777778,
             "#fb9f3a"
            ],
            [
             0.8888888888888888,
             "#fdca26"
            ],
            [
             1,
             "#f0f921"
            ]
           ]
          },
          "colorway": [
           "#636efa",
           "#EF553B",
           "#00cc96",
           "#ab63fa",
           "#FFA15A",
           "#19d3f3",
           "#FF6692",
           "#B6E880",
           "#FF97FF",
           "#FECB52"
          ],
          "font": {
           "color": "#2a3f5f"
          },
          "geo": {
           "bgcolor": "white",
           "lakecolor": "white",
           "landcolor": "#E5ECF6",
           "showlakes": true,
           "showland": true,
           "subunitcolor": "white"
          },
          "hoverlabel": {
           "align": "left"
          },
          "hovermode": "closest",
          "mapbox": {
           "style": "light"
          },
          "paper_bgcolor": "white",
          "plot_bgcolor": "#E5ECF6",
          "polar": {
           "angularaxis": {
            "gridcolor": "white",
            "linecolor": "white",
            "ticks": ""
           },
           "bgcolor": "#E5ECF6",
           "radialaxis": {
            "gridcolor": "white",
            "linecolor": "white",
            "ticks": ""
           }
          },
          "scene": {
           "xaxis": {
            "backgroundcolor": "#E5ECF6",
            "gridcolor": "white",
            "gridwidth": 2,
            "linecolor": "white",
            "showbackground": true,
            "ticks": "",
            "zerolinecolor": "white"
           },
           "yaxis": {
            "backgroundcolor": "#E5ECF6",
            "gridcolor": "white",
            "gridwidth": 2,
            "linecolor": "white",
            "showbackground": true,
            "ticks": "",
            "zerolinecolor": "white"
           },
           "zaxis": {
            "backgroundcolor": "#E5ECF6",
            "gridcolor": "white",
            "gridwidth": 2,
            "linecolor": "white",
            "showbackground": true,
            "ticks": "",
            "zerolinecolor": "white"
           }
          },
          "shapedefaults": {
           "line": {
            "color": "#2a3f5f"
           }
          },
          "ternary": {
           "aaxis": {
            "gridcolor": "white",
            "linecolor": "white",
            "ticks": ""
           },
           "baxis": {
            "gridcolor": "white",
            "linecolor": "white",
            "ticks": ""
           },
           "bgcolor": "#E5ECF6",
           "caxis": {
            "gridcolor": "white",
            "linecolor": "white",
            "ticks": ""
           }
          },
          "title": {
           "x": 0.05
          },
          "xaxis": {
           "automargin": true,
           "gridcolor": "white",
           "linecolor": "white",
           "ticks": "",
           "title": {
            "standoff": 15
           },
           "zerolinecolor": "white",
           "zerolinewidth": 2
          },
          "yaxis": {
           "automargin": true,
           "gridcolor": "white",
           "linecolor": "white",
           "ticks": "",
           "title": {
            "standoff": 15
           },
           "zerolinecolor": "white",
           "zerolinewidth": 2
          }
         }
        }
       }
      }
     },
     "metadata": {},
     "output_type": "display_data"
    },
    {
     "name": "stdout",
     "output_type": "stream",
     "text": [
      "Initial border smoothness:  81.54129589714606\n",
      "Final border smoothness:  424.10982183414006\n"
     ]
    }
   ],
   "source": [
    "x,arb = arbitrage_correction('2021-01-04',test_forecast,lambda_1 = 0.08)\n",
    "print(\"Initial border smoothness: \",np.sum(np.square(D@test_forecast.yhat)))\n",
    "print(\"Final border smoothness: \",np.sum(np.square(D@x)))"
   ]
  },
  {
   "cell_type": "code",
   "execution_count": 27,
   "metadata": {},
   "outputs": [
    {
     "data": {
      "application/vnd.plotly.v1+json": {
       "config": {
        "plotlyServerURL": "https://plot.ly"
       },
       "data": [
        {
         "line": {
          "color": "black"
         },
         "mode": "lines",
         "name": "forecast",
         "type": "scatter",
         "x": [
          "2021-01-01T00:00:00",
          "2021-01-01T01:00:00",
          "2021-01-01T02:00:00",
          "2021-01-01T03:00:00",
          "2021-01-01T04:00:00",
          "2021-01-01T05:00:00",
          "2021-01-01T06:00:00",
          "2021-01-01T07:00:00",
          "2021-01-01T08:00:00",
          "2021-01-01T09:00:00",
          "2021-01-01T10:00:00",
          "2021-01-01T11:00:00",
          "2021-01-01T12:00:00",
          "2021-01-01T13:00:00",
          "2021-01-01T14:00:00",
          "2021-01-01T15:00:00",
          "2021-01-01T16:00:00",
          "2021-01-01T17:00:00",
          "2021-01-01T18:00:00",
          "2021-01-01T19:00:00",
          "2021-01-01T20:00:00",
          "2021-01-01T21:00:00",
          "2021-01-01T22:00:00",
          "2021-01-01T23:00:00",
          "2021-01-02T00:00:00",
          "2021-01-02T01:00:00",
          "2021-01-02T02:00:00",
          "2021-01-02T03:00:00",
          "2021-01-02T04:00:00",
          "2021-01-02T05:00:00",
          "2021-01-02T06:00:00",
          "2021-01-02T07:00:00",
          "2021-01-02T08:00:00",
          "2021-01-02T09:00:00",
          "2021-01-02T10:00:00",
          "2021-01-02T11:00:00",
          "2021-01-02T12:00:00",
          "2021-01-02T13:00:00",
          "2021-01-02T14:00:00",
          "2021-01-02T15:00:00",
          "2021-01-02T16:00:00",
          "2021-01-02T17:00:00",
          "2021-01-02T18:00:00",
          "2021-01-02T19:00:00",
          "2021-01-02T20:00:00",
          "2021-01-02T21:00:00",
          "2021-01-02T22:00:00",
          "2021-01-02T23:00:00",
          "2021-01-03T00:00:00",
          "2021-01-03T01:00:00",
          "2021-01-03T02:00:00",
          "2021-01-03T03:00:00",
          "2021-01-03T04:00:00",
          "2021-01-03T05:00:00",
          "2021-01-03T06:00:00",
          "2021-01-03T07:00:00",
          "2021-01-03T08:00:00",
          "2021-01-03T09:00:00",
          "2021-01-03T10:00:00",
          "2021-01-03T11:00:00",
          "2021-01-03T12:00:00",
          "2021-01-03T13:00:00",
          "2021-01-03T14:00:00",
          "2021-01-03T15:00:00",
          "2021-01-03T16:00:00",
          "2021-01-03T17:00:00",
          "2021-01-03T18:00:00",
          "2021-01-03T19:00:00",
          "2021-01-03T20:00:00",
          "2021-01-03T21:00:00",
          "2021-01-03T22:00:00",
          "2021-01-03T23:00:00",
          "2021-01-04T00:00:00",
          "2021-01-04T01:00:00",
          "2021-01-04T02:00:00",
          "2021-01-04T03:00:00",
          "2021-01-04T04:00:00",
          "2021-01-04T05:00:00",
          "2021-01-04T06:00:00",
          "2021-01-04T07:00:00",
          "2021-01-04T08:00:00",
          "2021-01-04T09:00:00",
          "2021-01-04T10:00:00",
          "2021-01-04T11:00:00",
          "2021-01-04T12:00:00",
          "2021-01-04T13:00:00",
          "2021-01-04T14:00:00",
          "2021-01-04T15:00:00",
          "2021-01-04T16:00:00",
          "2021-01-04T17:00:00",
          "2021-01-04T18:00:00",
          "2021-01-04T19:00:00",
          "2021-01-04T20:00:00",
          "2021-01-04T21:00:00",
          "2021-01-04T22:00:00",
          "2021-01-04T23:00:00",
          "2021-01-05T00:00:00",
          "2021-01-05T01:00:00",
          "2021-01-05T02:00:00",
          "2021-01-05T03:00:00",
          "2021-01-05T04:00:00",
          "2021-01-05T05:00:00",
          "2021-01-05T06:00:00",
          "2021-01-05T07:00:00",
          "2021-01-05T08:00:00",
          "2021-01-05T09:00:00",
          "2021-01-05T10:00:00",
          "2021-01-05T11:00:00",
          "2021-01-05T12:00:00",
          "2021-01-05T13:00:00",
          "2021-01-05T14:00:00",
          "2021-01-05T15:00:00",
          "2021-01-05T16:00:00",
          "2021-01-05T17:00:00",
          "2021-01-05T18:00:00",
          "2021-01-05T19:00:00",
          "2021-01-05T20:00:00",
          "2021-01-05T21:00:00",
          "2021-01-05T22:00:00",
          "2021-01-05T23:00:00",
          "2021-01-06T00:00:00",
          "2021-01-06T01:00:00",
          "2021-01-06T02:00:00",
          "2021-01-06T03:00:00",
          "2021-01-06T04:00:00",
          "2021-01-06T05:00:00",
          "2021-01-06T06:00:00",
          "2021-01-06T07:00:00",
          "2021-01-06T08:00:00",
          "2021-01-06T09:00:00",
          "2021-01-06T10:00:00",
          "2021-01-06T11:00:00",
          "2021-01-06T12:00:00",
          "2021-01-06T13:00:00",
          "2021-01-06T14:00:00",
          "2021-01-06T15:00:00",
          "2021-01-06T16:00:00",
          "2021-01-06T17:00:00",
          "2021-01-06T18:00:00",
          "2021-01-06T19:00:00",
          "2021-01-06T20:00:00",
          "2021-01-06T21:00:00",
          "2021-01-06T22:00:00",
          "2021-01-06T23:00:00",
          "2021-01-07T00:00:00",
          "2021-01-07T01:00:00",
          "2021-01-07T02:00:00",
          "2021-01-07T03:00:00",
          "2021-01-07T04:00:00",
          "2021-01-07T05:00:00",
          "2021-01-07T06:00:00",
          "2021-01-07T07:00:00",
          "2021-01-07T08:00:00",
          "2021-01-07T09:00:00",
          "2021-01-07T10:00:00",
          "2021-01-07T11:00:00",
          "2021-01-07T12:00:00",
          "2021-01-07T13:00:00",
          "2021-01-07T14:00:00",
          "2021-01-07T15:00:00",
          "2021-01-07T16:00:00",
          "2021-01-07T17:00:00",
          "2021-01-07T18:00:00",
          "2021-01-07T19:00:00",
          "2021-01-07T20:00:00",
          "2021-01-07T21:00:00",
          "2021-01-07T22:00:00",
          "2021-01-07T23:00:00",
          "2021-01-08T00:00:00",
          "2021-01-08T01:00:00",
          "2021-01-08T02:00:00",
          "2021-01-08T03:00:00",
          "2021-01-08T04:00:00",
          "2021-01-08T05:00:00",
          "2021-01-08T06:00:00",
          "2021-01-08T07:00:00",
          "2021-01-08T08:00:00",
          "2021-01-08T09:00:00",
          "2021-01-08T10:00:00",
          "2021-01-08T11:00:00",
          "2021-01-08T12:00:00",
          "2021-01-08T13:00:00",
          "2021-01-08T14:00:00",
          "2021-01-08T15:00:00",
          "2021-01-08T16:00:00",
          "2021-01-08T17:00:00",
          "2021-01-08T18:00:00",
          "2021-01-08T19:00:00",
          "2021-01-08T20:00:00",
          "2021-01-08T21:00:00",
          "2021-01-08T22:00:00",
          "2021-01-08T23:00:00",
          "2021-01-09T00:00:00",
          "2021-01-09T01:00:00",
          "2021-01-09T02:00:00",
          "2021-01-09T03:00:00",
          "2021-01-09T04:00:00",
          "2021-01-09T05:00:00",
          "2021-01-09T06:00:00",
          "2021-01-09T07:00:00",
          "2021-01-09T08:00:00",
          "2021-01-09T09:00:00",
          "2021-01-09T10:00:00",
          "2021-01-09T11:00:00",
          "2021-01-09T12:00:00",
          "2021-01-09T13:00:00",
          "2021-01-09T14:00:00",
          "2021-01-09T15:00:00",
          "2021-01-09T16:00:00",
          "2021-01-09T17:00:00",
          "2021-01-09T18:00:00",
          "2021-01-09T19:00:00",
          "2021-01-09T20:00:00",
          "2021-01-09T21:00:00",
          "2021-01-09T22:00:00",
          "2021-01-09T23:00:00",
          "2021-01-10T00:00:00",
          "2021-01-10T01:00:00",
          "2021-01-10T02:00:00",
          "2021-01-10T03:00:00",
          "2021-01-10T04:00:00",
          "2021-01-10T05:00:00",
          "2021-01-10T06:00:00",
          "2021-01-10T07:00:00",
          "2021-01-10T08:00:00",
          "2021-01-10T09:00:00",
          "2021-01-10T10:00:00",
          "2021-01-10T11:00:00",
          "2021-01-10T12:00:00",
          "2021-01-10T13:00:00",
          "2021-01-10T14:00:00",
          "2021-01-10T15:00:00",
          "2021-01-10T16:00:00",
          "2021-01-10T17:00:00",
          "2021-01-10T18:00:00",
          "2021-01-10T19:00:00",
          "2021-01-10T20:00:00",
          "2021-01-10T21:00:00",
          "2021-01-10T22:00:00",
          "2021-01-10T23:00:00"
         ],
         "y": [
          30.94773806740332,
          29.18462494118439,
          27.12595836307325,
          25.698476249363324,
          26.48067857902394,
          30.16637715092033,
          35.64794453295579,
          40.603047696978415,
          43.07732515421799,
          42.6830620886331,
          40.47973896804017,
          37.86863338886012,
          35.65813392863206,
          34.07931899493752,
          33.42535274419075,
          34.33660807205935,
          37.22517229136703,
          41.40276013106795,
          44.977988004145175,
          45.92966141091932,
          43.56166903338679,
          39.03110896885737,
          34.40382809966775,
          31.04743631972318,
          28.8063435758064,
          26.668031494840072,
          24.20715789123542,
          22.352903831045253,
          22.686647093343936,
          25.905491287374574,
          30.90548850677959,
          35.3683412595948,
          37.34404280214066,
          36.44951075533113,
          33.7490899302997,
          30.649104617801,
          27.963119670175917,
          25.92746396588701,
          24.84056896214904,
          25.34803300739965,
          27.86706771959095,
          31.714351762715676,
          35.00324668422535,
          35.71702737732776,
          33.163721422312754,
          28.504183426406968,
          23.807585996506248,
          20.44438968098425,
          18.26134039177235,
          16.247706589078575,
          13.979354978175824,
          12.38607477900122,
          13.049234726356762,
          16.665302308769277,
          22.129063291823872,
          27.120327358874547,
          29.68657900353585,
          29.44162848516469,
          27.4461386209406,
          25.10220744189328,
          23.218665735345738,
          22.026642687193863,
          21.818951881503093,
          23.23520782337632,
          26.686328720994403,
          31.48245024556745,
          35.73020427066908,
          37.40601445760676,
          35.81100222202664,
          32.099128454376704,
          28.332751884056982,
          25.875665662477832,
          24.56815993964203,
          23.39332198469368,
          21.92117189890997,
          21.07604331272352,
          22.43429260042001,
          26.68786554060403,
          32.727558948332955,
          38.22976265487053,
          41.2391405718825,
          41.36730533948477,
          39.67336208467393,
          37.55850115122269,
          35.831298743283575,
          34.72327868876514,
          34.5282876615532,
          35.887594185440975,
          39.21436738987093,
          43.82156055102587,
          47.81915379691796,
          49.18740829551511,
          47.2317259659204,
          43.11074064985799,
          38.891822242624215,
          35.944056008745065,
          34.11324553721093,
          32.38815159341251,
          30.34456563413553,
          28.91262810301105,
          29.674475765405983,
          33.32774771750929,
          38.76878829409323,
          43.67933290333507,
          46.10913616562999,
          45.6745974273412,
          43.43925971387995,
          40.80836245969917,
          38.59410736737649,
          37.03119095267817,
          36.41615638658882,
          37.392475160833975,
          40.37501467427026,
          44.6779168208545,
          48.411841929966,
          49.557230279397714,
          47.41917503366348,
          43.15553230480282,
          38.83244951094594,
          35.817373876819005,
          33.95408909701497,
          32.22899191816064,
          30.21520687626883,
          28.83994872567139,
          29.6822162111502,
          33.43634618908289,
          38.99526567215685,
          44.03722717669977,
          46.60848609603632,
          46.32197453103453,
          44.23784701721533,
          41.758077891838674,
          39.69176908814654,
          38.27072139080938,
          37.788821289745016,
          38.88715353563557,
          41.97849513148351,
          46.37521553825786,
          50.18653721529124,
          51.39180854199225,
          49.29538288976629,
          45.0547295078984,
          40.73595745570726,
          37.70681454169876,
          35.81170947609052,
          34.03796925613535,
          31.95993032920755,
          30.50627345162541,
          31.25768631915023,
          34.91038345502361,
          40.359321440453776,
          45.28489542250396,
          47.73557619467866,
          47.32654287437684,
          45.12018722810667,
          42.52066998617478,
          40.33918854302535,
          38.8095096594216,
          38.2273198716338,
          39.23530424797147,
          42.24760972521135,
          46.57771826079404,
          50.33568432846512,
          51.501389155875486,
          49.37940576698949,
          45.1271007198648,
          40.81015393641779,
          37.79555867620561,
          35.92664988391189,
          34.18937287906756,
          32.156390816591774,
          30.754440642802955,
          31.56202137196673,
          35.2729438434382,
          40.77957967079144,
          45.75959487708728,
          48.2586270297619,
          47.88896037467843,
          45.71007444685057,
          43.12324591562703,
          40.93686243600652,
          39.38200150003912,
          38.751826353167424,
          39.68670898589948,
          42.5987358120068,
          46.79962066639659,
          50.39797907419987,
          51.37261565345788,
          49.02741820999533,
          44.51948397054905,
          39.9146589528276,
          36.58055219193365,
          34.361572782219945,
          32.245201503571764,
          29.806095329908214,
          27.973434492623937,
          28.328595942338797,
          31.56868246594172,
          36.589745340876334,
          41.07348626535612,
          43.06989769189492,
          42.195896444074485,
          39.51582654197494,
          36.436011491756624,
          33.77001536716869,
          31.754166275107107,
          30.686894907221244,
          31.21379885301407,
          33.75208897805439,
          37.61844320046131,
          40.926222328576266,
          41.658700522802405,
          39.12390463790387,
          34.482688561039595,
          29.80422418731752,
          26.458971359049578,
          24.293675289245428,
          22.297603745624453,
          20.046622748467293,
          18.47052083919092,
          19.15066608078377,
          22.78352529742608,
          28.26388359692661,
          33.271550011961395,
          35.854008392412986,
          35.625068361300166,
          33.64539210609919,
          31.31707703539757,
          29.4489533213728,
          28.272149541769924,
          28.07947867972661,
          29.510554646539344,
          32.976295064213424,
          37.78683502447058,
          42.04880582909141,
          43.73863057482669,
          42.157430120157066,
          38.45916480550492,
          34.706192817930685,
          32.26230677385716
         ]
        },
        {
         "line": {
          "color": "#636EFA"
         },
         "mode": "lines",
         "name": "W",
         "showlegend": true,
         "type": "scatter",
         "x": [
          "2021-01-04T00:00:00+01:00",
          "2021-01-11T00:00:00+01:00"
         ],
         "y": [
          57.7,
          57.7
         ]
        },
        {
         "line": {
          "color": "#EF553B"
         },
         "mode": "lines",
         "name": "D",
         "showlegend": true,
         "type": "scatter",
         "x": [
          "2021-01-04T00:00:00+01:00",
          "2021-01-05T00:00:00+01:00"
         ],
         "y": [
          48.02,
          48.02
         ]
        },
        {
         "line": {
          "color": "#EF553B"
         },
         "mode": "lines",
         "showlegend": false,
         "type": "scatter",
         "x": [
          "2021-01-05T00:00:00+01:00",
          "2021-01-06T00:00:00+01:00"
         ],
         "y": [
          55.34,
          55.34
         ]
        },
        {
         "line": {
          "color": "#EF553B"
         },
         "mode": "lines",
         "showlegend": false,
         "type": "scatter",
         "x": [
          "2021-01-06T00:00:00+01:00",
          "2021-01-07T00:00:00+01:00"
         ],
         "y": [
          56.03,
          56.03
         ]
        },
        {
         "line": {
          "color": "#EF553B"
         },
         "mode": "lines",
         "showlegend": false,
         "type": "scatter",
         "x": [
          "2021-01-07T00:00:00+01:00",
          "2021-01-08T00:00:00+01:00"
         ],
         "y": [
          69.25,
          69.25
         ]
        },
        {
         "line": {
          "color": "#EF553B"
         },
         "mode": "lines",
         "showlegend": false,
         "type": "scatter",
         "x": [
          "2021-01-08T00:00:00+01:00",
          "2021-01-09T00:00:00+01:00"
         ],
         "y": [
          71.38,
          71.38
         ]
        },
        {
         "line": {
          "color": "#00CC96"
         },
         "mode": "lines",
         "name": "WE",
         "showlegend": true,
         "type": "scatter",
         "x": [
          "2021-01-09T00:00:00+01:00",
          "2021-01-11T00:00:00+01:00"
         ],
         "y": [
          51.95,
          51.95
         ]
        },
        {
         "line": {
          "color": "#EF553B"
         },
         "mode": "lines",
         "showlegend": false,
         "type": "scatter",
         "x": [
          "2021-01-09T00:00:00+01:00",
          "2021-01-10T00:00:00+01:00"
         ],
         "y": [
          55.31,
          55.31
         ]
        },
        {
         "line": {
          "color": "#EF553B"
         },
         "mode": "lines",
         "showlegend": false,
         "type": "scatter",
         "x": [
          "2021-01-10T00:00:00+01:00",
          "2021-01-11T00:00:00+01:00"
         ],
         "y": [
          48.59,
          48.59
         ]
        }
       ],
       "layout": {
        "template": {
         "data": {
          "bar": [
           {
            "error_x": {
             "color": "#2a3f5f"
            },
            "error_y": {
             "color": "#2a3f5f"
            },
            "marker": {
             "line": {
              "color": "#E5ECF6",
              "width": 0.5
             },
             "pattern": {
              "fillmode": "overlay",
              "size": 10,
              "solidity": 0.2
             }
            },
            "type": "bar"
           }
          ],
          "barpolar": [
           {
            "marker": {
             "line": {
              "color": "#E5ECF6",
              "width": 0.5
             },
             "pattern": {
              "fillmode": "overlay",
              "size": 10,
              "solidity": 0.2
             }
            },
            "type": "barpolar"
           }
          ],
          "carpet": [
           {
            "aaxis": {
             "endlinecolor": "#2a3f5f",
             "gridcolor": "white",
             "linecolor": "white",
             "minorgridcolor": "white",
             "startlinecolor": "#2a3f5f"
            },
            "baxis": {
             "endlinecolor": "#2a3f5f",
             "gridcolor": "white",
             "linecolor": "white",
             "minorgridcolor": "white",
             "startlinecolor": "#2a3f5f"
            },
            "type": "carpet"
           }
          ],
          "choropleth": [
           {
            "colorbar": {
             "outlinewidth": 0,
             "ticks": ""
            },
            "type": "choropleth"
           }
          ],
          "contour": [
           {
            "colorbar": {
             "outlinewidth": 0,
             "ticks": ""
            },
            "colorscale": [
             [
              0,
              "#0d0887"
             ],
             [
              0.1111111111111111,
              "#46039f"
             ],
             [
              0.2222222222222222,
              "#7201a8"
             ],
             [
              0.3333333333333333,
              "#9c179e"
             ],
             [
              0.4444444444444444,
              "#bd3786"
             ],
             [
              0.5555555555555556,
              "#d8576b"
             ],
             [
              0.6666666666666666,
              "#ed7953"
             ],
             [
              0.7777777777777778,
              "#fb9f3a"
             ],
             [
              0.8888888888888888,
              "#fdca26"
             ],
             [
              1,
              "#f0f921"
             ]
            ],
            "type": "contour"
           }
          ],
          "contourcarpet": [
           {
            "colorbar": {
             "outlinewidth": 0,
             "ticks": ""
            },
            "type": "contourcarpet"
           }
          ],
          "heatmap": [
           {
            "colorbar": {
             "outlinewidth": 0,
             "ticks": ""
            },
            "colorscale": [
             [
              0,
              "#0d0887"
             ],
             [
              0.1111111111111111,
              "#46039f"
             ],
             [
              0.2222222222222222,
              "#7201a8"
             ],
             [
              0.3333333333333333,
              "#9c179e"
             ],
             [
              0.4444444444444444,
              "#bd3786"
             ],
             [
              0.5555555555555556,
              "#d8576b"
             ],
             [
              0.6666666666666666,
              "#ed7953"
             ],
             [
              0.7777777777777778,
              "#fb9f3a"
             ],
             [
              0.8888888888888888,
              "#fdca26"
             ],
             [
              1,
              "#f0f921"
             ]
            ],
            "type": "heatmap"
           }
          ],
          "heatmapgl": [
           {
            "colorbar": {
             "outlinewidth": 0,
             "ticks": ""
            },
            "colorscale": [
             [
              0,
              "#0d0887"
             ],
             [
              0.1111111111111111,
              "#46039f"
             ],
             [
              0.2222222222222222,
              "#7201a8"
             ],
             [
              0.3333333333333333,
              "#9c179e"
             ],
             [
              0.4444444444444444,
              "#bd3786"
             ],
             [
              0.5555555555555556,
              "#d8576b"
             ],
             [
              0.6666666666666666,
              "#ed7953"
             ],
             [
              0.7777777777777778,
              "#fb9f3a"
             ],
             [
              0.8888888888888888,
              "#fdca26"
             ],
             [
              1,
              "#f0f921"
             ]
            ],
            "type": "heatmapgl"
           }
          ],
          "histogram": [
           {
            "marker": {
             "pattern": {
              "fillmode": "overlay",
              "size": 10,
              "solidity": 0.2
             }
            },
            "type": "histogram"
           }
          ],
          "histogram2d": [
           {
            "colorbar": {
             "outlinewidth": 0,
             "ticks": ""
            },
            "colorscale": [
             [
              0,
              "#0d0887"
             ],
             [
              0.1111111111111111,
              "#46039f"
             ],
             [
              0.2222222222222222,
              "#7201a8"
             ],
             [
              0.3333333333333333,
              "#9c179e"
             ],
             [
              0.4444444444444444,
              "#bd3786"
             ],
             [
              0.5555555555555556,
              "#d8576b"
             ],
             [
              0.6666666666666666,
              "#ed7953"
             ],
             [
              0.7777777777777778,
              "#fb9f3a"
             ],
             [
              0.8888888888888888,
              "#fdca26"
             ],
             [
              1,
              "#f0f921"
             ]
            ],
            "type": "histogram2d"
           }
          ],
          "histogram2dcontour": [
           {
            "colorbar": {
             "outlinewidth": 0,
             "ticks": ""
            },
            "colorscale": [
             [
              0,
              "#0d0887"
             ],
             [
              0.1111111111111111,
              "#46039f"
             ],
             [
              0.2222222222222222,
              "#7201a8"
             ],
             [
              0.3333333333333333,
              "#9c179e"
             ],
             [
              0.4444444444444444,
              "#bd3786"
             ],
             [
              0.5555555555555556,
              "#d8576b"
             ],
             [
              0.6666666666666666,
              "#ed7953"
             ],
             [
              0.7777777777777778,
              "#fb9f3a"
             ],
             [
              0.8888888888888888,
              "#fdca26"
             ],
             [
              1,
              "#f0f921"
             ]
            ],
            "type": "histogram2dcontour"
           }
          ],
          "mesh3d": [
           {
            "colorbar": {
             "outlinewidth": 0,
             "ticks": ""
            },
            "type": "mesh3d"
           }
          ],
          "parcoords": [
           {
            "line": {
             "colorbar": {
              "outlinewidth": 0,
              "ticks": ""
             }
            },
            "type": "parcoords"
           }
          ],
          "pie": [
           {
            "automargin": true,
            "type": "pie"
           }
          ],
          "scatter": [
           {
            "fillpattern": {
             "fillmode": "overlay",
             "size": 10,
             "solidity": 0.2
            },
            "type": "scatter"
           }
          ],
          "scatter3d": [
           {
            "line": {
             "colorbar": {
              "outlinewidth": 0,
              "ticks": ""
             }
            },
            "marker": {
             "colorbar": {
              "outlinewidth": 0,
              "ticks": ""
             }
            },
            "type": "scatter3d"
           }
          ],
          "scattercarpet": [
           {
            "marker": {
             "colorbar": {
              "outlinewidth": 0,
              "ticks": ""
             }
            },
            "type": "scattercarpet"
           }
          ],
          "scattergeo": [
           {
            "marker": {
             "colorbar": {
              "outlinewidth": 0,
              "ticks": ""
             }
            },
            "type": "scattergeo"
           }
          ],
          "scattergl": [
           {
            "marker": {
             "colorbar": {
              "outlinewidth": 0,
              "ticks": ""
             }
            },
            "type": "scattergl"
           }
          ],
          "scattermapbox": [
           {
            "marker": {
             "colorbar": {
              "outlinewidth": 0,
              "ticks": ""
             }
            },
            "type": "scattermapbox"
           }
          ],
          "scatterpolar": [
           {
            "marker": {
             "colorbar": {
              "outlinewidth": 0,
              "ticks": ""
             }
            },
            "type": "scatterpolar"
           }
          ],
          "scatterpolargl": [
           {
            "marker": {
             "colorbar": {
              "outlinewidth": 0,
              "ticks": ""
             }
            },
            "type": "scatterpolargl"
           }
          ],
          "scatterternary": [
           {
            "marker": {
             "colorbar": {
              "outlinewidth": 0,
              "ticks": ""
             }
            },
            "type": "scatterternary"
           }
          ],
          "surface": [
           {
            "colorbar": {
             "outlinewidth": 0,
             "ticks": ""
            },
            "colorscale": [
             [
              0,
              "#0d0887"
             ],
             [
              0.1111111111111111,
              "#46039f"
             ],
             [
              0.2222222222222222,
              "#7201a8"
             ],
             [
              0.3333333333333333,
              "#9c179e"
             ],
             [
              0.4444444444444444,
              "#bd3786"
             ],
             [
              0.5555555555555556,
              "#d8576b"
             ],
             [
              0.6666666666666666,
              "#ed7953"
             ],
             [
              0.7777777777777778,
              "#fb9f3a"
             ],
             [
              0.8888888888888888,
              "#fdca26"
             ],
             [
              1,
              "#f0f921"
             ]
            ],
            "type": "surface"
           }
          ],
          "table": [
           {
            "cells": {
             "fill": {
              "color": "#EBF0F8"
             },
             "line": {
              "color": "white"
             }
            },
            "header": {
             "fill": {
              "color": "#C8D4E3"
             },
             "line": {
              "color": "white"
             }
            },
            "type": "table"
           }
          ]
         },
         "layout": {
          "annotationdefaults": {
           "arrowcolor": "#2a3f5f",
           "arrowhead": 0,
           "arrowwidth": 1
          },
          "autotypenumbers": "strict",
          "coloraxis": {
           "colorbar": {
            "outlinewidth": 0,
            "ticks": ""
           }
          },
          "colorscale": {
           "diverging": [
            [
             0,
             "#8e0152"
            ],
            [
             0.1,
             "#c51b7d"
            ],
            [
             0.2,
             "#de77ae"
            ],
            [
             0.3,
             "#f1b6da"
            ],
            [
             0.4,
             "#fde0ef"
            ],
            [
             0.5,
             "#f7f7f7"
            ],
            [
             0.6,
             "#e6f5d0"
            ],
            [
             0.7,
             "#b8e186"
            ],
            [
             0.8,
             "#7fbc41"
            ],
            [
             0.9,
             "#4d9221"
            ],
            [
             1,
             "#276419"
            ]
           ],
           "sequential": [
            [
             0,
             "#0d0887"
            ],
            [
             0.1111111111111111,
             "#46039f"
            ],
            [
             0.2222222222222222,
             "#7201a8"
            ],
            [
             0.3333333333333333,
             "#9c179e"
            ],
            [
             0.4444444444444444,
             "#bd3786"
            ],
            [
             0.5555555555555556,
             "#d8576b"
            ],
            [
             0.6666666666666666,
             "#ed7953"
            ],
            [
             0.7777777777777778,
             "#fb9f3a"
            ],
            [
             0.8888888888888888,
             "#fdca26"
            ],
            [
             1,
             "#f0f921"
            ]
           ],
           "sequentialminus": [
            [
             0,
             "#0d0887"
            ],
            [
             0.1111111111111111,
             "#46039f"
            ],
            [
             0.2222222222222222,
             "#7201a8"
            ],
            [
             0.3333333333333333,
             "#9c179e"
            ],
            [
             0.4444444444444444,
             "#bd3786"
            ],
            [
             0.5555555555555556,
             "#d8576b"
            ],
            [
             0.6666666666666666,
             "#ed7953"
            ],
            [
             0.7777777777777778,
             "#fb9f3a"
            ],
            [
             0.8888888888888888,
             "#fdca26"
            ],
            [
             1,
             "#f0f921"
            ]
           ]
          },
          "colorway": [
           "#636efa",
           "#EF553B",
           "#00cc96",
           "#ab63fa",
           "#FFA15A",
           "#19d3f3",
           "#FF6692",
           "#B6E880",
           "#FF97FF",
           "#FECB52"
          ],
          "font": {
           "color": "#2a3f5f"
          },
          "geo": {
           "bgcolor": "white",
           "lakecolor": "white",
           "landcolor": "#E5ECF6",
           "showlakes": true,
           "showland": true,
           "subunitcolor": "white"
          },
          "hoverlabel": {
           "align": "left"
          },
          "hovermode": "closest",
          "mapbox": {
           "style": "light"
          },
          "paper_bgcolor": "white",
          "plot_bgcolor": "#E5ECF6",
          "polar": {
           "angularaxis": {
            "gridcolor": "white",
            "linecolor": "white",
            "ticks": ""
           },
           "bgcolor": "#E5ECF6",
           "radialaxis": {
            "gridcolor": "white",
            "linecolor": "white",
            "ticks": ""
           }
          },
          "scene": {
           "xaxis": {
            "backgroundcolor": "#E5ECF6",
            "gridcolor": "white",
            "gridwidth": 2,
            "linecolor": "white",
            "showbackground": true,
            "ticks": "",
            "zerolinecolor": "white"
           },
           "yaxis": {
            "backgroundcolor": "#E5ECF6",
            "gridcolor": "white",
            "gridwidth": 2,
            "linecolor": "white",
            "showbackground": true,
            "ticks": "",
            "zerolinecolor": "white"
           },
           "zaxis": {
            "backgroundcolor": "#E5ECF6",
            "gridcolor": "white",
            "gridwidth": 2,
            "linecolor": "white",
            "showbackground": true,
            "ticks": "",
            "zerolinecolor": "white"
           }
          },
          "shapedefaults": {
           "line": {
            "color": "#2a3f5f"
           }
          },
          "ternary": {
           "aaxis": {
            "gridcolor": "white",
            "linecolor": "white",
            "ticks": ""
           },
           "baxis": {
            "gridcolor": "white",
            "linecolor": "white",
            "ticks": ""
           },
           "bgcolor": "#E5ECF6",
           "caxis": {
            "gridcolor": "white",
            "linecolor": "white",
            "ticks": ""
           }
          },
          "title": {
           "x": 0.05
          },
          "xaxis": {
           "automargin": true,
           "gridcolor": "white",
           "linecolor": "white",
           "ticks": "",
           "title": {
            "standoff": 15
           },
           "zerolinecolor": "white",
           "zerolinewidth": 2
          },
          "yaxis": {
           "automargin": true,
           "gridcolor": "white",
           "linecolor": "white",
           "ticks": "",
           "title": {
            "standoff": 15
           },
           "zerolinecolor": "white",
           "zerolinewidth": 2
          }
         }
        }
       }
      }
     },
     "metadata": {},
     "output_type": "display_data"
    },
    {
     "name": "stdout",
     "output_type": "stream",
     "text": [
      "No arbitrage opportunities found in forwards\n",
      "Optimum found\n"
     ]
    },
    {
     "data": {
      "application/vnd.plotly.v1+json": {
       "config": {
        "plotlyServerURL": "https://plot.ly"
       },
       "data": [
        {
         "line": {
          "color": "black"
         },
         "mode": "lines",
         "name": "forecast",
         "type": "scatter",
         "x": [
          "2021-01-01T00:00:00",
          "2021-01-01T01:00:00",
          "2021-01-01T02:00:00",
          "2021-01-01T03:00:00",
          "2021-01-01T04:00:00",
          "2021-01-01T05:00:00",
          "2021-01-01T06:00:00",
          "2021-01-01T07:00:00",
          "2021-01-01T08:00:00",
          "2021-01-01T09:00:00",
          "2021-01-01T10:00:00",
          "2021-01-01T11:00:00",
          "2021-01-01T12:00:00",
          "2021-01-01T13:00:00",
          "2021-01-01T14:00:00",
          "2021-01-01T15:00:00",
          "2021-01-01T16:00:00",
          "2021-01-01T17:00:00",
          "2021-01-01T18:00:00",
          "2021-01-01T19:00:00",
          "2021-01-01T20:00:00",
          "2021-01-01T21:00:00",
          "2021-01-01T22:00:00",
          "2021-01-01T23:00:00",
          "2021-01-02T00:00:00",
          "2021-01-02T01:00:00",
          "2021-01-02T02:00:00",
          "2021-01-02T03:00:00",
          "2021-01-02T04:00:00",
          "2021-01-02T05:00:00",
          "2021-01-02T06:00:00",
          "2021-01-02T07:00:00",
          "2021-01-02T08:00:00",
          "2021-01-02T09:00:00",
          "2021-01-02T10:00:00",
          "2021-01-02T11:00:00",
          "2021-01-02T12:00:00",
          "2021-01-02T13:00:00",
          "2021-01-02T14:00:00",
          "2021-01-02T15:00:00",
          "2021-01-02T16:00:00",
          "2021-01-02T17:00:00",
          "2021-01-02T18:00:00",
          "2021-01-02T19:00:00",
          "2021-01-02T20:00:00",
          "2021-01-02T21:00:00",
          "2021-01-02T22:00:00",
          "2021-01-02T23:00:00",
          "2021-01-03T00:00:00",
          "2021-01-03T01:00:00",
          "2021-01-03T02:00:00",
          "2021-01-03T03:00:00",
          "2021-01-03T04:00:00",
          "2021-01-03T05:00:00",
          "2021-01-03T06:00:00",
          "2021-01-03T07:00:00",
          "2021-01-03T08:00:00",
          "2021-01-03T09:00:00",
          "2021-01-03T10:00:00",
          "2021-01-03T11:00:00",
          "2021-01-03T12:00:00",
          "2021-01-03T13:00:00",
          "2021-01-03T14:00:00",
          "2021-01-03T15:00:00",
          "2021-01-03T16:00:00",
          "2021-01-03T17:00:00",
          "2021-01-03T18:00:00",
          "2021-01-03T19:00:00",
          "2021-01-03T20:00:00",
          "2021-01-03T21:00:00",
          "2021-01-03T22:00:00",
          "2021-01-03T23:00:00",
          "2021-01-04T00:00:00",
          "2021-01-04T01:00:00",
          "2021-01-04T02:00:00",
          "2021-01-04T03:00:00",
          "2021-01-04T04:00:00",
          "2021-01-04T05:00:00",
          "2021-01-04T06:00:00",
          "2021-01-04T07:00:00",
          "2021-01-04T08:00:00",
          "2021-01-04T09:00:00",
          "2021-01-04T10:00:00",
          "2021-01-04T11:00:00",
          "2021-01-04T12:00:00",
          "2021-01-04T13:00:00",
          "2021-01-04T14:00:00",
          "2021-01-04T15:00:00",
          "2021-01-04T16:00:00",
          "2021-01-04T17:00:00",
          "2021-01-04T18:00:00",
          "2021-01-04T19:00:00",
          "2021-01-04T20:00:00",
          "2021-01-04T21:00:00",
          "2021-01-04T22:00:00",
          "2021-01-04T23:00:00",
          "2021-01-05T00:00:00",
          "2021-01-05T01:00:00",
          "2021-01-05T02:00:00",
          "2021-01-05T03:00:00",
          "2021-01-05T04:00:00",
          "2021-01-05T05:00:00",
          "2021-01-05T06:00:00",
          "2021-01-05T07:00:00",
          "2021-01-05T08:00:00",
          "2021-01-05T09:00:00",
          "2021-01-05T10:00:00",
          "2021-01-05T11:00:00",
          "2021-01-05T12:00:00",
          "2021-01-05T13:00:00",
          "2021-01-05T14:00:00",
          "2021-01-05T15:00:00",
          "2021-01-05T16:00:00",
          "2021-01-05T17:00:00",
          "2021-01-05T18:00:00",
          "2021-01-05T19:00:00",
          "2021-01-05T20:00:00",
          "2021-01-05T21:00:00",
          "2021-01-05T22:00:00",
          "2021-01-05T23:00:00",
          "2021-01-06T00:00:00",
          "2021-01-06T01:00:00",
          "2021-01-06T02:00:00",
          "2021-01-06T03:00:00",
          "2021-01-06T04:00:00",
          "2021-01-06T05:00:00",
          "2021-01-06T06:00:00",
          "2021-01-06T07:00:00",
          "2021-01-06T08:00:00",
          "2021-01-06T09:00:00",
          "2021-01-06T10:00:00",
          "2021-01-06T11:00:00",
          "2021-01-06T12:00:00",
          "2021-01-06T13:00:00",
          "2021-01-06T14:00:00",
          "2021-01-06T15:00:00",
          "2021-01-06T16:00:00",
          "2021-01-06T17:00:00",
          "2021-01-06T18:00:00",
          "2021-01-06T19:00:00",
          "2021-01-06T20:00:00",
          "2021-01-06T21:00:00",
          "2021-01-06T22:00:00",
          "2021-01-06T23:00:00",
          "2021-01-07T00:00:00",
          "2021-01-07T01:00:00",
          "2021-01-07T02:00:00",
          "2021-01-07T03:00:00",
          "2021-01-07T04:00:00",
          "2021-01-07T05:00:00",
          "2021-01-07T06:00:00",
          "2021-01-07T07:00:00",
          "2021-01-07T08:00:00",
          "2021-01-07T09:00:00",
          "2021-01-07T10:00:00",
          "2021-01-07T11:00:00",
          "2021-01-07T12:00:00",
          "2021-01-07T13:00:00",
          "2021-01-07T14:00:00",
          "2021-01-07T15:00:00",
          "2021-01-07T16:00:00",
          "2021-01-07T17:00:00",
          "2021-01-07T18:00:00",
          "2021-01-07T19:00:00",
          "2021-01-07T20:00:00",
          "2021-01-07T21:00:00",
          "2021-01-07T22:00:00",
          "2021-01-07T23:00:00",
          "2021-01-08T00:00:00",
          "2021-01-08T01:00:00",
          "2021-01-08T02:00:00",
          "2021-01-08T03:00:00",
          "2021-01-08T04:00:00",
          "2021-01-08T05:00:00",
          "2021-01-08T06:00:00",
          "2021-01-08T07:00:00",
          "2021-01-08T08:00:00",
          "2021-01-08T09:00:00",
          "2021-01-08T10:00:00",
          "2021-01-08T11:00:00",
          "2021-01-08T12:00:00",
          "2021-01-08T13:00:00",
          "2021-01-08T14:00:00",
          "2021-01-08T15:00:00",
          "2021-01-08T16:00:00",
          "2021-01-08T17:00:00",
          "2021-01-08T18:00:00",
          "2021-01-08T19:00:00",
          "2021-01-08T20:00:00",
          "2021-01-08T21:00:00",
          "2021-01-08T22:00:00",
          "2021-01-08T23:00:00",
          "2021-01-09T00:00:00",
          "2021-01-09T01:00:00",
          "2021-01-09T02:00:00",
          "2021-01-09T03:00:00",
          "2021-01-09T04:00:00",
          "2021-01-09T05:00:00",
          "2021-01-09T06:00:00",
          "2021-01-09T07:00:00",
          "2021-01-09T08:00:00",
          "2021-01-09T09:00:00",
          "2021-01-09T10:00:00",
          "2021-01-09T11:00:00",
          "2021-01-09T12:00:00",
          "2021-01-09T13:00:00",
          "2021-01-09T14:00:00",
          "2021-01-09T15:00:00",
          "2021-01-09T16:00:00",
          "2021-01-09T17:00:00",
          "2021-01-09T18:00:00",
          "2021-01-09T19:00:00",
          "2021-01-09T20:00:00",
          "2021-01-09T21:00:00",
          "2021-01-09T22:00:00",
          "2021-01-09T23:00:00",
          "2021-01-10T00:00:00",
          "2021-01-10T01:00:00",
          "2021-01-10T02:00:00",
          "2021-01-10T03:00:00",
          "2021-01-10T04:00:00",
          "2021-01-10T05:00:00",
          "2021-01-10T06:00:00",
          "2021-01-10T07:00:00",
          "2021-01-10T08:00:00",
          "2021-01-10T09:00:00",
          "2021-01-10T10:00:00",
          "2021-01-10T11:00:00",
          "2021-01-10T12:00:00",
          "2021-01-10T13:00:00",
          "2021-01-10T14:00:00",
          "2021-01-10T15:00:00",
          "2021-01-10T16:00:00",
          "2021-01-10T17:00:00",
          "2021-01-10T18:00:00",
          "2021-01-10T19:00:00",
          "2021-01-10T20:00:00",
          "2021-01-10T21:00:00",
          "2021-01-10T22:00:00",
          "2021-01-10T23:00:00"
         ],
         "y": [
          30.94773784364242,
          29.184624764638595,
          27.125957063506284,
          25.69847513243825,
          26.480678171696837,
          30.166376785314437,
          35.64794433544803,
          40.603047394460766,
          43.077324833265386,
          42.683061770617975,
          40.4797386664423,
          37.86863310671647,
          35.65813366295709,
          34.07931874102642,
          33.42535249515125,
          34.33660781623129,
          37.22517201401627,
          41.4027598225918,
          44.97798766903155,
          45.92966106871771,
          43.56166870882555,
          39.03110867805262,
          34.403827843338064,
          31.04743608840152,
          28.80634336118215,
          26.668031296147053,
          24.207157710877308,
          22.352903664503014,
          22.686646924314495,
          25.90549109436353,
          30.90548827651552,
          35.368340996079745,
          37.34404252390552,
          36.44951048376076,
          33.74908967884818,
          30.64910438944714,
          27.963119461833756,
          25.92746377271226,
          24.840568777072278,
          25.34803281854199,
          27.867067511964837,
          31.714351526425116,
          35.00324642342965,
          35.71702711121399,
          33.16372117522256,
          28.504183214033574,
          23.807585819126434,
          20.4443895286609,
          18.26134025571418,
          16.247706468023118,
          13.97935487402117,
          12.386074686717722,
          13.04923462913203,
          16.665302184602904,
          22.12906312694875,
          27.12032715681229,
          29.686578782352715,
          29.441628265807203,
          27.446138416450243,
          25.102207254866535,
          23.218665562352452,
          22.026642523082455,
          21.818951718938475,
          23.235207650261046,
          26.68632852216506,
          31.48245001100406,
          35.73020400445713,
          37.40601417890989,
          35.811001955212696,
          32.099128215218336,
          28.332751672960853,
          38.601391505272716,
          37.29359623938156,
          36.11902673156758,
          34.646527292755636,
          33.80196840330198,
          35.15884995607709,
          39.41383164332348,
          45.45251844196947,
          50.955096635345505,
          53.96465344384885,
          54.09269800950124,
          52.39864402231786,
          50.28393365226426,
          48.55632878721307,
          47.44933281370703,
          47.25353727078427,
          48.612344874641636,
          51.939808441433385,
          56.54708199459162,
          60.54413217688531,
          61.912712720232726,
          59.95678600721148,
          55.83590900849172,
          51.617289922240204,
          51.9042300361205,
          50.07366368009798,
          48.34837331260163,
          46.30488147600083,
          44.87286270427507,
          45.634341389523634,
          49.28759952882233,
          54.72858355985579,
          59.63960856447411,
          62.06925147685379,
          61.6348288210535,
          59.39930502999591,
          56.76834208920529,
          54.55422648675519,
          52.99088593860851,
          52.37560391858552,
          53.352452299181735,
          56.33478320164745,
          60.63790407049111,
          64.37169490055408,
          65.51736051364442,
          63.37895292202409,
          59.11564470885793,
          54.79261936108248,
          51.603339041273316,
          49.739440685381844,
          48.014760686411286,
          46.00095523139734,
          44.62546396454826,
          45.46752584058317,
          49.22212763426699,
          54.78087425069806,
          59.82289470190511,
          62.3944547316268,
          62.107404464432385,
          60.023926207876265,
          57.54363048472445,
          55.47767132521896,
          54.05649519103946,
          53.57452856533806,
          54.672924813201035,
          57.76398379626146,
          62.16128751291651,
          65.97271458587772,
          67.17738803405632,
          65.08153276963696,
          60.84096784878009,
          56.52170762184827,
          65.82351754012366,
          63.92816787175698,
          62.15478205845596,
          60.076367999078954,
          58.6228043419107,
          59.37466313196984,
          63.027114831428975,
          68.47614137888263,
          73.40127755423599,
          75.85243616011577,
          75.44319457775131,
          73.23682430823284,
          70.63726749496887,
          68.45558328202927,
          66.92614070692686,
          66.34402796749329,
          67.3518174095551,
          70.36448680622006,
          74.69449460069374,
          78.45246820026615,
          79.61813849110872,
          77.49604261183364,
          73.24396716811897,
          68.92627350233201,
          67.81605436477558,
          65.9467524786124,
          64.20952398493145,
          62.1766069507457,
          60.77432756238948,
          61.581664432802924,
          65.29329398415615,
          70.7993934668815,
          75.78004300752794,
          78.27870592678,
          77.90903273313961,
          75.7301444403613,
          73.14297974471116,
          70.95669084967882,
          69.40198689143094,
          68.77183065952744,
          69.70706671120658,
          72.61876552885767,
          76.82000154706672,
          80.41829916720178,
          81.39283806329158,
          79.04762755731154,
          74.53945110108546,
          69.93491884514482,
          56.700242794245405,
          54.48163765128256,
          52.36532482749346,
          49.92628654492542,
          48.09330832695697,
          48.44825617099493,
          51.68826429699008,
          56.70984147677236,
          61.19321073096272,
          63.189993158734794,
          62.31576504004285,
          59.635275465791054,
          56.55628032600797,
          53.8902107187848,
          51.87428812049374,
          50.807479633784816,
          51.333496310945065,
          53.871915400943855,
          57.73878316630486,
          61.04636061245286,
          61.778819528682334,
          59.24397132570163,
          54.60246706176829,
          49.924521284651554,
          44.26978466406992,
          42.10564483539428,
          40.10966891727445,
          37.85825543514217,
          36.281560033401156,
          36.962305655125256,
          40.595086632555514,
          46.07525128222041,
          51.08271641693698,
          53.66557691490455,
          53.43602217801353,
          51.456567627461496,
          49.12790520307708,
          47.260151237106165,
          46.0839959168952,
          45.89108158773069,
          47.32192406834932,
          50.787665271597206,
          55.5982618113704,
          59.86014180350394,
          61.54997392027099,
          59.96883686335191,
          56.27007161250797,
          52.517550081873495,
          32.26230653348303
         ]
        },
        {
         "line": {
          "color": "#636EFA"
         },
         "mode": "lines",
         "name": "W",
         "showlegend": true,
         "type": "scatter",
         "x": [
          "2021-01-04T00:00:00+01:00",
          "2021-01-11T00:00:00+01:00"
         ],
         "y": [
          57.7,
          57.7
         ]
        },
        {
         "line": {
          "color": "#EF553B"
         },
         "mode": "lines",
         "name": "D",
         "showlegend": true,
         "type": "scatter",
         "x": [
          "2021-01-04T00:00:00+01:00",
          "2021-01-05T00:00:00+01:00"
         ],
         "y": [
          48.02,
          48.02
         ]
        },
        {
         "line": {
          "color": "#EF553B"
         },
         "mode": "lines",
         "showlegend": false,
         "type": "scatter",
         "x": [
          "2021-01-05T00:00:00+01:00",
          "2021-01-06T00:00:00+01:00"
         ],
         "y": [
          55.34,
          55.34
         ]
        },
        {
         "line": {
          "color": "#EF553B"
         },
         "mode": "lines",
         "showlegend": false,
         "type": "scatter",
         "x": [
          "2021-01-06T00:00:00+01:00",
          "2021-01-07T00:00:00+01:00"
         ],
         "y": [
          56.03,
          56.03
         ]
        },
        {
         "line": {
          "color": "#EF553B"
         },
         "mode": "lines",
         "showlegend": false,
         "type": "scatter",
         "x": [
          "2021-01-07T00:00:00+01:00",
          "2021-01-08T00:00:00+01:00"
         ],
         "y": [
          69.25,
          69.25
         ]
        },
        {
         "line": {
          "color": "#EF553B"
         },
         "mode": "lines",
         "showlegend": false,
         "type": "scatter",
         "x": [
          "2021-01-08T00:00:00+01:00",
          "2021-01-09T00:00:00+01:00"
         ],
         "y": [
          71.38,
          71.38
         ]
        },
        {
         "line": {
          "color": "#00CC96"
         },
         "mode": "lines",
         "name": "WE",
         "showlegend": true,
         "type": "scatter",
         "x": [
          "2021-01-09T00:00:00+01:00",
          "2021-01-11T00:00:00+01:00"
         ],
         "y": [
          51.95,
          51.95
         ]
        },
        {
         "line": {
          "color": "#EF553B"
         },
         "mode": "lines",
         "showlegend": false,
         "type": "scatter",
         "x": [
          "2021-01-09T00:00:00+01:00",
          "2021-01-10T00:00:00+01:00"
         ],
         "y": [
          55.31,
          55.31
         ]
        },
        {
         "line": {
          "color": "#EF553B"
         },
         "mode": "lines",
         "showlegend": false,
         "type": "scatter",
         "x": [
          "2021-01-10T00:00:00+01:00",
          "2021-01-11T00:00:00+01:00"
         ],
         "y": [
          48.59,
          48.59
         ]
        }
       ],
       "layout": {
        "template": {
         "data": {
          "bar": [
           {
            "error_x": {
             "color": "#2a3f5f"
            },
            "error_y": {
             "color": "#2a3f5f"
            },
            "marker": {
             "line": {
              "color": "#E5ECF6",
              "width": 0.5
             },
             "pattern": {
              "fillmode": "overlay",
              "size": 10,
              "solidity": 0.2
             }
            },
            "type": "bar"
           }
          ],
          "barpolar": [
           {
            "marker": {
             "line": {
              "color": "#E5ECF6",
              "width": 0.5
             },
             "pattern": {
              "fillmode": "overlay",
              "size": 10,
              "solidity": 0.2
             }
            },
            "type": "barpolar"
           }
          ],
          "carpet": [
           {
            "aaxis": {
             "endlinecolor": "#2a3f5f",
             "gridcolor": "white",
             "linecolor": "white",
             "minorgridcolor": "white",
             "startlinecolor": "#2a3f5f"
            },
            "baxis": {
             "endlinecolor": "#2a3f5f",
             "gridcolor": "white",
             "linecolor": "white",
             "minorgridcolor": "white",
             "startlinecolor": "#2a3f5f"
            },
            "type": "carpet"
           }
          ],
          "choropleth": [
           {
            "colorbar": {
             "outlinewidth": 0,
             "ticks": ""
            },
            "type": "choropleth"
           }
          ],
          "contour": [
           {
            "colorbar": {
             "outlinewidth": 0,
             "ticks": ""
            },
            "colorscale": [
             [
              0,
              "#0d0887"
             ],
             [
              0.1111111111111111,
              "#46039f"
             ],
             [
              0.2222222222222222,
              "#7201a8"
             ],
             [
              0.3333333333333333,
              "#9c179e"
             ],
             [
              0.4444444444444444,
              "#bd3786"
             ],
             [
              0.5555555555555556,
              "#d8576b"
             ],
             [
              0.6666666666666666,
              "#ed7953"
             ],
             [
              0.7777777777777778,
              "#fb9f3a"
             ],
             [
              0.8888888888888888,
              "#fdca26"
             ],
             [
              1,
              "#f0f921"
             ]
            ],
            "type": "contour"
           }
          ],
          "contourcarpet": [
           {
            "colorbar": {
             "outlinewidth": 0,
             "ticks": ""
            },
            "type": "contourcarpet"
           }
          ],
          "heatmap": [
           {
            "colorbar": {
             "outlinewidth": 0,
             "ticks": ""
            },
            "colorscale": [
             [
              0,
              "#0d0887"
             ],
             [
              0.1111111111111111,
              "#46039f"
             ],
             [
              0.2222222222222222,
              "#7201a8"
             ],
             [
              0.3333333333333333,
              "#9c179e"
             ],
             [
              0.4444444444444444,
              "#bd3786"
             ],
             [
              0.5555555555555556,
              "#d8576b"
             ],
             [
              0.6666666666666666,
              "#ed7953"
             ],
             [
              0.7777777777777778,
              "#fb9f3a"
             ],
             [
              0.8888888888888888,
              "#fdca26"
             ],
             [
              1,
              "#f0f921"
             ]
            ],
            "type": "heatmap"
           }
          ],
          "heatmapgl": [
           {
            "colorbar": {
             "outlinewidth": 0,
             "ticks": ""
            },
            "colorscale": [
             [
              0,
              "#0d0887"
             ],
             [
              0.1111111111111111,
              "#46039f"
             ],
             [
              0.2222222222222222,
              "#7201a8"
             ],
             [
              0.3333333333333333,
              "#9c179e"
             ],
             [
              0.4444444444444444,
              "#bd3786"
             ],
             [
              0.5555555555555556,
              "#d8576b"
             ],
             [
              0.6666666666666666,
              "#ed7953"
             ],
             [
              0.7777777777777778,
              "#fb9f3a"
             ],
             [
              0.8888888888888888,
              "#fdca26"
             ],
             [
              1,
              "#f0f921"
             ]
            ],
            "type": "heatmapgl"
           }
          ],
          "histogram": [
           {
            "marker": {
             "pattern": {
              "fillmode": "overlay",
              "size": 10,
              "solidity": 0.2
             }
            },
            "type": "histogram"
           }
          ],
          "histogram2d": [
           {
            "colorbar": {
             "outlinewidth": 0,
             "ticks": ""
            },
            "colorscale": [
             [
              0,
              "#0d0887"
             ],
             [
              0.1111111111111111,
              "#46039f"
             ],
             [
              0.2222222222222222,
              "#7201a8"
             ],
             [
              0.3333333333333333,
              "#9c179e"
             ],
             [
              0.4444444444444444,
              "#bd3786"
             ],
             [
              0.5555555555555556,
              "#d8576b"
             ],
             [
              0.6666666666666666,
              "#ed7953"
             ],
             [
              0.7777777777777778,
              "#fb9f3a"
             ],
             [
              0.8888888888888888,
              "#fdca26"
             ],
             [
              1,
              "#f0f921"
             ]
            ],
            "type": "histogram2d"
           }
          ],
          "histogram2dcontour": [
           {
            "colorbar": {
             "outlinewidth": 0,
             "ticks": ""
            },
            "colorscale": [
             [
              0,
              "#0d0887"
             ],
             [
              0.1111111111111111,
              "#46039f"
             ],
             [
              0.2222222222222222,
              "#7201a8"
             ],
             [
              0.3333333333333333,
              "#9c179e"
             ],
             [
              0.4444444444444444,
              "#bd3786"
             ],
             [
              0.5555555555555556,
              "#d8576b"
             ],
             [
              0.6666666666666666,
              "#ed7953"
             ],
             [
              0.7777777777777778,
              "#fb9f3a"
             ],
             [
              0.8888888888888888,
              "#fdca26"
             ],
             [
              1,
              "#f0f921"
             ]
            ],
            "type": "histogram2dcontour"
           }
          ],
          "mesh3d": [
           {
            "colorbar": {
             "outlinewidth": 0,
             "ticks": ""
            },
            "type": "mesh3d"
           }
          ],
          "parcoords": [
           {
            "line": {
             "colorbar": {
              "outlinewidth": 0,
              "ticks": ""
             }
            },
            "type": "parcoords"
           }
          ],
          "pie": [
           {
            "automargin": true,
            "type": "pie"
           }
          ],
          "scatter": [
           {
            "fillpattern": {
             "fillmode": "overlay",
             "size": 10,
             "solidity": 0.2
            },
            "type": "scatter"
           }
          ],
          "scatter3d": [
           {
            "line": {
             "colorbar": {
              "outlinewidth": 0,
              "ticks": ""
             }
            },
            "marker": {
             "colorbar": {
              "outlinewidth": 0,
              "ticks": ""
             }
            },
            "type": "scatter3d"
           }
          ],
          "scattercarpet": [
           {
            "marker": {
             "colorbar": {
              "outlinewidth": 0,
              "ticks": ""
             }
            },
            "type": "scattercarpet"
           }
          ],
          "scattergeo": [
           {
            "marker": {
             "colorbar": {
              "outlinewidth": 0,
              "ticks": ""
             }
            },
            "type": "scattergeo"
           }
          ],
          "scattergl": [
           {
            "marker": {
             "colorbar": {
              "outlinewidth": 0,
              "ticks": ""
             }
            },
            "type": "scattergl"
           }
          ],
          "scattermapbox": [
           {
            "marker": {
             "colorbar": {
              "outlinewidth": 0,
              "ticks": ""
             }
            },
            "type": "scattermapbox"
           }
          ],
          "scatterpolar": [
           {
            "marker": {
             "colorbar": {
              "outlinewidth": 0,
              "ticks": ""
             }
            },
            "type": "scatterpolar"
           }
          ],
          "scatterpolargl": [
           {
            "marker": {
             "colorbar": {
              "outlinewidth": 0,
              "ticks": ""
             }
            },
            "type": "scatterpolargl"
           }
          ],
          "scatterternary": [
           {
            "marker": {
             "colorbar": {
              "outlinewidth": 0,
              "ticks": ""
             }
            },
            "type": "scatterternary"
           }
          ],
          "surface": [
           {
            "colorbar": {
             "outlinewidth": 0,
             "ticks": ""
            },
            "colorscale": [
             [
              0,
              "#0d0887"
             ],
             [
              0.1111111111111111,
              "#46039f"
             ],
             [
              0.2222222222222222,
              "#7201a8"
             ],
             [
              0.3333333333333333,
              "#9c179e"
             ],
             [
              0.4444444444444444,
              "#bd3786"
             ],
             [
              0.5555555555555556,
              "#d8576b"
             ],
             [
              0.6666666666666666,
              "#ed7953"
             ],
             [
              0.7777777777777778,
              "#fb9f3a"
             ],
             [
              0.8888888888888888,
              "#fdca26"
             ],
             [
              1,
              "#f0f921"
             ]
            ],
            "type": "surface"
           }
          ],
          "table": [
           {
            "cells": {
             "fill": {
              "color": "#EBF0F8"
             },
             "line": {
              "color": "white"
             }
            },
            "header": {
             "fill": {
              "color": "#C8D4E3"
             },
             "line": {
              "color": "white"
             }
            },
            "type": "table"
           }
          ]
         },
         "layout": {
          "annotationdefaults": {
           "arrowcolor": "#2a3f5f",
           "arrowhead": 0,
           "arrowwidth": 1
          },
          "autotypenumbers": "strict",
          "coloraxis": {
           "colorbar": {
            "outlinewidth": 0,
            "ticks": ""
           }
          },
          "colorscale": {
           "diverging": [
            [
             0,
             "#8e0152"
            ],
            [
             0.1,
             "#c51b7d"
            ],
            [
             0.2,
             "#de77ae"
            ],
            [
             0.3,
             "#f1b6da"
            ],
            [
             0.4,
             "#fde0ef"
            ],
            [
             0.5,
             "#f7f7f7"
            ],
            [
             0.6,
             "#e6f5d0"
            ],
            [
             0.7,
             "#b8e186"
            ],
            [
             0.8,
             "#7fbc41"
            ],
            [
             0.9,
             "#4d9221"
            ],
            [
             1,
             "#276419"
            ]
           ],
           "sequential": [
            [
             0,
             "#0d0887"
            ],
            [
             0.1111111111111111,
             "#46039f"
            ],
            [
             0.2222222222222222,
             "#7201a8"
            ],
            [
             0.3333333333333333,
             "#9c179e"
            ],
            [
             0.4444444444444444,
             "#bd3786"
            ],
            [
             0.5555555555555556,
             "#d8576b"
            ],
            [
             0.6666666666666666,
             "#ed7953"
            ],
            [
             0.7777777777777778,
             "#fb9f3a"
            ],
            [
             0.8888888888888888,
             "#fdca26"
            ],
            [
             1,
             "#f0f921"
            ]
           ],
           "sequentialminus": [
            [
             0,
             "#0d0887"
            ],
            [
             0.1111111111111111,
             "#46039f"
            ],
            [
             0.2222222222222222,
             "#7201a8"
            ],
            [
             0.3333333333333333,
             "#9c179e"
            ],
            [
             0.4444444444444444,
             "#bd3786"
            ],
            [
             0.5555555555555556,
             "#d8576b"
            ],
            [
             0.6666666666666666,
             "#ed7953"
            ],
            [
             0.7777777777777778,
             "#fb9f3a"
            ],
            [
             0.8888888888888888,
             "#fdca26"
            ],
            [
             1,
             "#f0f921"
            ]
           ]
          },
          "colorway": [
           "#636efa",
           "#EF553B",
           "#00cc96",
           "#ab63fa",
           "#FFA15A",
           "#19d3f3",
           "#FF6692",
           "#B6E880",
           "#FF97FF",
           "#FECB52"
          ],
          "font": {
           "color": "#2a3f5f"
          },
          "geo": {
           "bgcolor": "white",
           "lakecolor": "white",
           "landcolor": "#E5ECF6",
           "showlakes": true,
           "showland": true,
           "subunitcolor": "white"
          },
          "hoverlabel": {
           "align": "left"
          },
          "hovermode": "closest",
          "mapbox": {
           "style": "light"
          },
          "paper_bgcolor": "white",
          "plot_bgcolor": "#E5ECF6",
          "polar": {
           "angularaxis": {
            "gridcolor": "white",
            "linecolor": "white",
            "ticks": ""
           },
           "bgcolor": "#E5ECF6",
           "radialaxis": {
            "gridcolor": "white",
            "linecolor": "white",
            "ticks": ""
           }
          },
          "scene": {
           "xaxis": {
            "backgroundcolor": "#E5ECF6",
            "gridcolor": "white",
            "gridwidth": 2,
            "linecolor": "white",
            "showbackground": true,
            "ticks": "",
            "zerolinecolor": "white"
           },
           "yaxis": {
            "backgroundcolor": "#E5ECF6",
            "gridcolor": "white",
            "gridwidth": 2,
            "linecolor": "white",
            "showbackground": true,
            "ticks": "",
            "zerolinecolor": "white"
           },
           "zaxis": {
            "backgroundcolor": "#E5ECF6",
            "gridcolor": "white",
            "gridwidth": 2,
            "linecolor": "white",
            "showbackground": true,
            "ticks": "",
            "zerolinecolor": "white"
           }
          },
          "shapedefaults": {
           "line": {
            "color": "#2a3f5f"
           }
          },
          "ternary": {
           "aaxis": {
            "gridcolor": "white",
            "linecolor": "white",
            "ticks": ""
           },
           "baxis": {
            "gridcolor": "white",
            "linecolor": "white",
            "ticks": ""
           },
           "bgcolor": "#E5ECF6",
           "caxis": {
            "gridcolor": "white",
            "linecolor": "white",
            "ticks": ""
           }
          },
          "title": {
           "x": 0.05
          },
          "xaxis": {
           "automargin": true,
           "gridcolor": "white",
           "linecolor": "white",
           "ticks": "",
           "title": {
            "standoff": 15
           },
           "zerolinecolor": "white",
           "zerolinewidth": 2
          },
          "yaxis": {
           "automargin": true,
           "gridcolor": "white",
           "linecolor": "white",
           "ticks": "",
           "title": {
            "standoff": 15
           },
           "zerolinecolor": "white",
           "zerolinewidth": 2
          }
         }
        }
       }
      }
     },
     "metadata": {},
     "output_type": "display_data"
    },
    {
     "name": "stdout",
     "output_type": "stream",
     "text": [
      "Initial border smoothness:  81.54129589714606\n",
      "Final border smoothness:  691.1893724805303\n"
     ]
    }
   ],
   "source": [
    "x,arb = arbitrage_correction('2021-01-04',test_forecast,lambda_1 = 0)\n",
    "print(\"Initial border smoothness: \",np.sum(np.square(D@test_forecast.yhat)))\n",
    "print(\"Final border smoothness: \",np.sum(np.square(D@x)))"
   ]
  },
  {
   "cell_type": "code",
   "execution_count": 8,
   "metadata": {},
   "outputs": [
    {
     "data": {
      "application/vnd.plotly.v1+json": {
       "config": {
        "plotlyServerURL": "https://plot.ly"
       },
       "data": [
        {
         "line": {
          "color": "#636EFA"
         },
         "mode": "lines",
         "name": "W",
         "showlegend": true,
         "type": "scatter",
         "x": [
          "2021-01-04T00:00:00+01:00",
          "2021-01-11T00:00:00+01:00"
         ],
         "y": [
          57.7,
          57.7
         ]
        },
        {
         "line": {
          "color": "#EF553B"
         },
         "mode": "lines",
         "name": "D",
         "showlegend": true,
         "type": "scatter",
         "x": [
          "2021-01-04T00:00:00+01:00",
          "2021-01-05T00:00:00+01:00"
         ],
         "y": [
          48.02,
          48.02
         ]
        },
        {
         "line": {
          "color": "#EF553B"
         },
         "mode": "lines",
         "showlegend": false,
         "type": "scatter",
         "x": [
          "2021-01-05T00:00:00+01:00",
          "2021-01-06T00:00:00+01:00"
         ],
         "y": [
          55.34,
          55.34
         ]
        },
        {
         "line": {
          "color": "#EF553B"
         },
         "mode": "lines",
         "showlegend": false,
         "type": "scatter",
         "x": [
          "2021-01-06T00:00:00+01:00",
          "2021-01-07T00:00:00+01:00"
         ],
         "y": [
          56.03,
          56.03
         ]
        },
        {
         "line": {
          "color": "#EF553B"
         },
         "mode": "lines",
         "showlegend": false,
         "type": "scatter",
         "x": [
          "2021-01-07T00:00:00+01:00",
          "2021-01-08T00:00:00+01:00"
         ],
         "y": [
          69.25,
          69.25
         ]
        },
        {
         "line": {
          "color": "#EF553B"
         },
         "mode": "lines",
         "showlegend": false,
         "type": "scatter",
         "x": [
          "2021-01-08T00:00:00+01:00",
          "2021-01-09T00:00:00+01:00"
         ],
         "y": [
          71.38,
          71.38
         ]
        },
        {
         "line": {
          "color": "#EF553B"
         },
         "mode": "lines",
         "showlegend": false,
         "type": "scatter",
         "x": [
          "2021-01-09T00:00:00+01:00",
          "2021-01-10T00:00:00+01:00"
         ],
         "y": [
          55.31,
          55.31
         ]
        },
        {
         "line": {
          "color": "#00CC96"
         },
         "mode": "lines",
         "name": "WE",
         "showlegend": true,
         "type": "scatter",
         "x": [
          "2021-01-09T00:00:00+01:00",
          "2021-01-11T00:00:00+01:00"
         ],
         "y": [
          51.95,
          51.95
         ]
        },
        {
         "line": {
          "color": "#EF553B"
         },
         "mode": "lines",
         "showlegend": false,
         "type": "scatter",
         "x": [
          "2021-01-10T00:00:00+01:00",
          "2021-01-11T00:00:00+01:00"
         ],
         "y": [
          48.59,
          48.59
         ]
        },
        {
         "line": {
          "color": "#636EFA"
         },
         "mode": "lines",
         "showlegend": false,
         "type": "scatter",
         "x": [
          "2021-01-11T00:00:00+01:00",
          "2021-01-18T00:00:00+01:00"
         ],
         "y": [
          52.7,
          52.7
         ]
        },
        {
         "line": {
          "color": "#636EFA"
         },
         "mode": "lines",
         "showlegend": false,
         "type": "scatter",
         "x": [
          "2021-01-18T00:00:00+01:00",
          "2021-01-25T00:00:00+01:00"
         ],
         "y": [
          51.1,
          51.1
         ]
        },
        {
         "line": {
          "color": "#636EFA"
         },
         "mode": "lines",
         "showlegend": false,
         "type": "scatter",
         "x": [
          "2021-01-25T00:00:00+01:00",
          "2021-02-01T00:00:00+01:00"
         ],
         "y": [
          53.49,
          53.49
         ]
        },
        {
         "line": {
          "color": "#636EFA"
         },
         "mode": "lines",
         "showlegend": false,
         "type": "scatter",
         "x": [
          "2021-02-01T00:00:00+01:00",
          "2021-02-08T00:00:00+01:00"
         ],
         "y": [
          53.97,
          53.97
         ]
        },
        {
         "line": {
          "color": "#AB63FA"
         },
         "mode": "lines",
         "name": "M",
         "showlegend": true,
         "type": "scatter",
         "x": [
          "2021-02-01T00:00:00+01:00",
          "2021-03-01T00:00:00+01:00"
         ],
         "y": [
          52.72,
          52.72
         ]
        },
        {
         "line": {
          "color": "#AB63FA"
         },
         "mode": "lines",
         "showlegend": false,
         "type": "scatter",
         "x": [
          "2021-03-01T00:00:00+01:00",
          "2021-04-01T00:00:00+02:00"
         ],
         "y": [
          47.75,
          47.75
         ]
        },
        {
         "line": {
          "color": "#FFA15A"
         },
         "mode": "lines",
         "name": "Q",
         "showlegend": true,
         "type": "scatter",
         "x": [
          "2021-04-01T00:00:00+02:00",
          "2021-07-01T00:00:00+02:00"
         ],
         "y": [
          44.89,
          44.89
         ]
        },
        {
         "line": {
          "color": "#AB63FA"
         },
         "mode": "lines",
         "showlegend": false,
         "type": "scatter",
         "x": [
          "2021-04-01T00:00:00+02:00",
          "2021-05-01T00:00:00+02:00"
         ],
         "y": [
          45.06,
          45.06
         ]
        },
        {
         "line": {
          "color": "#AB63FA"
         },
         "mode": "lines",
         "showlegend": false,
         "type": "scatter",
         "x": [
          "2021-05-01T00:00:00+02:00",
          "2021-06-01T00:00:00+02:00"
         ],
         "y": [
          43.27,
          43.27
         ]
        },
        {
         "line": {
          "color": "#AB63FA"
         },
         "mode": "lines",
         "showlegend": false,
         "type": "scatter",
         "x": [
          "2021-06-01T00:00:00+02:00",
          "2021-07-01T00:00:00+02:00"
         ],
         "y": [
          46.39,
          46.39
         ]
        },
        {
         "line": {
          "color": "#FFA15A"
         },
         "mode": "lines",
         "showlegend": false,
         "type": "scatter",
         "x": [
          "2021-07-01T00:00:00+02:00",
          "2021-10-01T00:00:00+02:00"
         ],
         "y": [
          47.67,
          47.67
         ]
        },
        {
         "line": {
          "color": "#AB63FA"
         },
         "mode": "lines",
         "showlegend": false,
         "type": "scatter",
         "x": [
          "2021-07-01T00:00:00+02:00",
          "2021-08-01T00:00:00+02:00"
         ],
         "y": [
          46.81,
          46.81
         ]
        },
        {
         "line": {
          "color": "#AB63FA"
         },
         "mode": "lines",
         "showlegend": false,
         "type": "scatter",
         "x": [
          "2021-08-01T00:00:00+02:00",
          "2021-09-01T00:00:00+02:00"
         ],
         "y": [
          45.18,
          45.18
         ]
        },
        {
         "line": {
          "color": "#AB63FA"
         },
         "mode": "lines",
         "showlegend": false,
         "type": "scatter",
         "x": [
          "2021-09-01T00:00:00+02:00",
          "2021-10-01T00:00:00+02:00"
         ],
         "y": [
          51.12,
          51.12
         ]
        },
        {
         "line": {
          "color": "#AB63FA"
         },
         "mode": "lines",
         "showlegend": false,
         "type": "scatter",
         "x": [
          "2021-10-01T00:00:00+02:00",
          "2021-11-01T00:00:00+01:00"
         ],
         "y": [
          49.55,
          49.55
         ]
        },
        {
         "line": {
          "color": "#FFA15A"
         },
         "mode": "lines",
         "showlegend": false,
         "type": "scatter",
         "x": [
          "2021-10-01T00:00:00+02:00",
          "2022-01-01T00:00:00+01:00"
         ],
         "y": [
          51.92,
          51.92
         ]
        },
        {
         "line": {
          "color": "#FFA15A"
         },
         "mode": "lines",
         "showlegend": false,
         "type": "scatter",
         "x": [
          "2022-01-01T00:00:00+01:00",
          "2022-04-01T00:00:00+02:00"
         ],
         "y": [
          54.6,
          54.6
         ]
        },
        {
         "line": {
          "color": "#19D3F3"
         },
         "mode": "lines",
         "name": "Y",
         "showlegend": true,
         "type": "scatter",
         "x": [
          "2022-01-01T00:00:00+01:00",
          "2023-01-01T00:00:00+01:00"
         ],
         "y": [
          50.92,
          50.92
         ]
        },
        {
         "line": {
          "color": "#FFA15A"
         },
         "mode": "lines",
         "showlegend": false,
         "type": "scatter",
         "x": [
          "2022-04-01T00:00:00+02:00",
          "2022-07-01T00:00:00+02:00"
         ],
         "y": [
          46.59,
          46.59
         ]
        },
        {
         "line": {
          "color": "#FFA15A"
         },
         "mode": "lines",
         "showlegend": false,
         "type": "scatter",
         "x": [
          "2022-07-01T00:00:00+02:00",
          "2022-10-01T00:00:00+02:00"
         ],
         "y": [
          48.78,
          48.78
         ]
        },
        {
         "line": {
          "color": "#FFA15A"
         },
         "mode": "lines",
         "showlegend": false,
         "type": "scatter",
         "x": [
          "2022-10-01T00:00:00+02:00",
          "2023-01-01T00:00:00+01:00"
         ],
         "y": [
          53.74,
          53.74
         ]
        },
        {
         "line": {
          "color": "#19D3F3"
         },
         "mode": "lines",
         "showlegend": false,
         "type": "scatter",
         "x": [
          "2023-01-01T00:00:00+01:00",
          "2024-01-01T00:00:00+01:00"
         ],
         "y": [
          51.25,
          51.25
         ]
        },
        {
         "line": {
          "color": "#FFA15A"
         },
         "mode": "lines",
         "showlegend": false,
         "type": "scatter",
         "x": [
          "2023-01-01T00:00:00+01:00",
          "2023-04-01T00:00:00+02:00"
         ],
         "y": [
          54.1,
          54.1
         ]
        },
        {
         "line": {
          "color": "#19D3F3"
         },
         "mode": "lines",
         "showlegend": false,
         "type": "scatter",
         "x": [
          "2024-01-01T00:00:00+01:00",
          "2025-01-01T00:00:00+01:00"
         ],
         "y": [
          50.43,
          50.43
         ]
        },
        {
         "line": {
          "color": "#FF6692",
          "dash": "dot"
         },
         "mode": "lines",
         "name": "New_Forward_Line",
         "showlegend": true,
         "type": "scatter",
         "x": [
          "2021-01-04T00:00:00+01:00",
          "2021-01-05T00:00:00+01:00"
         ],
         "y": [
          48.019638554216876,
          48.019638554216876
         ]
        },
        {
         "line": {
          "color": "#FF6692",
          "dash": "dot"
         },
         "mode": "lines",
         "showlegend": false,
         "type": "scatter",
         "x": [
          "2021-01-05T00:00:00+01:00",
          "2021-01-06T00:00:00+01:00"
         ],
         "y": [
          55.33963855421686,
          55.33963855421686
         ]
        },
        {
         "line": {
          "color": "#FF6692",
          "dash": "dot"
         },
         "mode": "lines",
         "showlegend": false,
         "type": "scatter",
         "x": [
          "2021-01-06T00:00:00+01:00",
          "2021-01-07T00:00:00+01:00"
         ],
         "y": [
          56.029638554216874,
          56.029638554216874
         ]
        },
        {
         "line": {
          "color": "#FF6692",
          "dash": "dot"
         },
         "mode": "lines",
         "showlegend": false,
         "type": "scatter",
         "x": [
          "2021-01-07T00:00:00+01:00",
          "2021-01-08T00:00:00+01:00"
         ],
         "y": [
          69.24963855421687,
          69.24963855421687
         ]
        },
        {
         "line": {
          "color": "#FF6692",
          "dash": "dot"
         },
         "mode": "lines",
         "showlegend": false,
         "type": "scatter",
         "x": [
          "2021-01-08T00:00:00+01:00",
          "2021-01-09T00:00:00+01:00"
         ],
         "y": [
          71.37963855421687,
          71.37963855421687
         ]
        },
        {
         "line": {
          "color": "#FF6692",
          "dash": "dot"
         },
         "mode": "lines",
         "showlegend": false,
         "type": "scatter",
         "x": [
          "2021-01-09T00:00:00+01:00",
          "2021-01-10T00:00:00+01:00"
         ],
         "y": [
          55.30975903614459,
          55.30975903614459
         ]
        },
        {
         "line": {
          "color": "#FF6692",
          "dash": "dot"
         },
         "mode": "lines",
         "showlegend": false,
         "type": "scatter",
         "x": [
          "2021-01-10T00:00:00+01:00",
          "2021-01-11T00:00:00+01:00"
         ],
         "y": [
          48.58975903614459,
          48.58975903614459
         ]
        },
        {
         "line": {
          "color": "#FF6692",
          "dash": "dot"
         },
         "mode": "lines",
         "showlegend": false,
         "type": "scatter",
         "x": [
          "2021-01-11T00:00:00+01:00",
          "2021-01-18T00:00:00+01:00"
         ],
         "y": [
          52.7,
          52.7
         ]
        },
        {
         "line": {
          "color": "#FF6692",
          "dash": "dot"
         },
         "mode": "lines",
         "showlegend": false,
         "type": "scatter",
         "x": [
          "2021-01-18T00:00:00+01:00",
          "2021-01-25T00:00:00+01:00"
         ],
         "y": [
          51.1,
          51.1
         ]
        },
        {
         "line": {
          "color": "#FF6692",
          "dash": "dot"
         },
         "mode": "lines",
         "showlegend": false,
         "type": "scatter",
         "x": [
          "2021-01-25T00:00:00+01:00",
          "2021-02-01T00:00:00+01:00"
         ],
         "y": [
          53.49,
          53.49
         ]
        },
        {
         "line": {
          "color": "#FF6692",
          "dash": "dot"
         },
         "mode": "lines",
         "showlegend": false,
         "type": "scatter",
         "x": [
          "2021-02-01T00:00:00+01:00",
          "2021-02-08T00:00:00+01:00"
         ],
         "y": [
          53.97000000000001,
          53.97000000000001
         ]
        },
        {
         "line": {
          "color": "#FF6692",
          "dash": "dot"
         },
         "mode": "lines",
         "showlegend": false,
         "type": "scatter",
         "x": [
          "2021-02-08T00:00:00+01:00",
          "2021-03-01T00:00:00+01:00"
         ],
         "y": [
          52.30333333333332,
          52.30333333333332
         ]
        },
        {
         "line": {
          "color": "#FF6692",
          "dash": "dot"
         },
         "mode": "lines",
         "showlegend": false,
         "type": "scatter",
         "x": [
          "2021-03-01T00:00:00+01:00",
          "2021-04-01T00:00:00+02:00"
         ],
         "y": [
          47.75,
          47.75
         ]
        },
        {
         "line": {
          "color": "#FF6692",
          "dash": "dot"
         },
         "mode": "lines",
         "showlegend": false,
         "type": "scatter",
         "x": [
          "2021-04-01T00:00:00+02:00",
          "2021-05-01T00:00:00+02:00"
         ],
         "y": [
          45.06032602789351,
          45.06032602789351
         ]
        },
        {
         "line": {
          "color": "#FF6692",
          "dash": "dot"
         },
         "mode": "lines",
         "showlegend": false,
         "type": "scatter",
         "x": [
          "2021-05-01T00:00:00+02:00",
          "2021-06-01T00:00:00+02:00"
         ],
         "y": [
          43.27033689548996,
          43.27033689548996
         ]
        },
        {
         "line": {
          "color": "#FF6692",
          "dash": "dot"
         },
         "mode": "lines",
         "showlegend": false,
         "type": "scatter",
         "x": [
          "2021-06-01T00:00:00+02:00",
          "2021-07-01T00:00:00+02:00"
         ],
         "y": [
          46.39032602789351,
          46.39032602789351
         ]
        },
        {
         "line": {
          "color": "#FF6692",
          "dash": "dot"
         },
         "mode": "lines",
         "showlegend": false,
         "type": "scatter",
         "x": [
          "2021-07-01T00:00:00+02:00",
          "2021-08-01T00:00:00+02:00"
         ],
         "y": [
          46.81096136806664,
          46.81096136806664
         ]
        },
        {
         "line": {
          "color": "#FF6692",
          "dash": "dot"
         },
         "mode": "lines",
         "showlegend": false,
         "type": "scatter",
         "x": [
          "2021-08-01T00:00:00+02:00",
          "2021-09-01T00:00:00+02:00"
         ],
         "y": [
          45.18096136806663,
          45.18096136806663
         ]
        },
        {
         "line": {
          "color": "#FF6692",
          "dash": "dot"
         },
         "mode": "lines",
         "showlegend": false,
         "type": "scatter",
         "x": [
          "2021-09-01T00:00:00+02:00",
          "2021-10-01T00:00:00+02:00"
         ],
         "y": [
          51.12093035619352,
          51.12093035619352
         ]
        },
        {
         "line": {
          "color": "#FF6692",
          "dash": "dot"
         },
         "mode": "lines",
         "showlegend": false,
         "type": "scatter",
         "x": [
          "2021-10-01T00:00:00+02:00",
          "2021-11-01T00:00:00+01:00"
         ],
         "y": [
          49.55,
          49.55
         ]
        },
        {
         "line": {
          "color": "#FF6692",
          "dash": "dot"
         },
         "mode": "lines",
         "showlegend": false,
         "type": "scatter",
         "x": [
          "2021-11-01T00:00:00+01:00",
          "2022-01-01T00:00:00+01:00"
         ],
         "y": [
          53.1260450819672,
          53.1260450819672
         ]
        },
        {
         "line": {
          "color": "#FF6692",
          "dash": "dot"
         },
         "mode": "lines",
         "showlegend": false,
         "type": "scatter",
         "x": [
          "2022-01-01T00:00:00+01:00",
          "2022-04-01T00:00:00+02:00"
         ],
         "y": [
          54.600165204876085,
          54.600165204876085
         ]
        },
        {
         "line": {
          "color": "#FF6692",
          "dash": "dot"
         },
         "mode": "lines",
         "showlegend": false,
         "type": "scatter",
         "x": [
          "2022-04-01T00:00:00+02:00",
          "2022-07-01T00:00:00+02:00"
         ],
         "y": [
          46.590167117855216,
          46.590167117855216
         ]
        },
        {
         "line": {
          "color": "#FF6692",
          "dash": "dot"
         },
         "mode": "lines",
         "showlegend": false,
         "type": "scatter",
         "x": [
          "2022-07-01T00:00:00+02:00",
          "2022-10-01T00:00:00+02:00"
         ],
         "y": [
          48.78016895431515,
          48.78016895431515
         ]
        },
        {
         "line": {
          "color": "#FF6692",
          "dash": "dot"
         },
         "mode": "lines",
         "showlegend": false,
         "type": "scatter",
         "x": [
          "2022-10-01T00:00:00+02:00",
          "2023-01-01T00:00:00+01:00"
         ],
         "y": [
          53.74016903083432,
          53.74016903083432
         ]
        },
        {
         "line": {
          "color": "#FF6692",
          "dash": "dot"
         },
         "mode": "lines",
         "showlegend": false,
         "type": "scatter",
         "x": [
          "2023-01-01T00:00:00+01:00",
          "2023-04-01T00:00:00+02:00"
         ],
         "y": [
          54.099999999999994,
          54.099999999999994
         ]
        },
        {
         "line": {
          "color": "#FF6692",
          "dash": "dot"
         },
         "mode": "lines",
         "showlegend": false,
         "type": "scatter",
         "x": [
          "2023-04-01T00:00:00+02:00",
          "2024-01-01T00:00:00+01:00"
         ],
         "y": [
          50.317845780942285,
          50.317845780942285
         ]
        },
        {
         "line": {
          "color": "#FF6692",
          "dash": "dot"
         },
         "mode": "lines",
         "showlegend": false,
         "type": "scatter",
         "x": [
          "2024-01-01T00:00:00+01:00",
          "2025-01-01T00:00:00+01:00"
         ],
         "y": [
          50.43000000000001,
          50.43000000000001
         ]
        },
        {
         "line": {
          "color": "gray",
          "dash": "dot"
         },
         "mode": "lines",
         "showlegend": false,
         "type": "scatter",
         "x": [
          "2021-01-04T00:00:00+01:00",
          "2021-01-04T00:00:00+01:00"
         ],
         "y": [
          0,
          71.38
         ]
        },
        {
         "line": {
          "color": "gray",
          "dash": "dot"
         },
         "mode": "lines",
         "showlegend": false,
         "type": "scatter",
         "x": [
          "2021-01-05T00:00:00+01:00",
          "2021-01-05T00:00:00+01:00"
         ],
         "y": [
          0,
          71.38
         ]
        },
        {
         "line": {
          "color": "gray",
          "dash": "dot"
         },
         "mode": "lines",
         "showlegend": false,
         "type": "scatter",
         "x": [
          "2021-01-06T00:00:00+01:00",
          "2021-01-06T00:00:00+01:00"
         ],
         "y": [
          0,
          71.38
         ]
        },
        {
         "line": {
          "color": "gray",
          "dash": "dot"
         },
         "mode": "lines",
         "showlegend": false,
         "type": "scatter",
         "x": [
          "2021-01-07T00:00:00+01:00",
          "2021-01-07T00:00:00+01:00"
         ],
         "y": [
          0,
          71.38
         ]
        },
        {
         "line": {
          "color": "gray",
          "dash": "dot"
         },
         "mode": "lines",
         "showlegend": false,
         "type": "scatter",
         "x": [
          "2021-01-08T00:00:00+01:00",
          "2021-01-08T00:00:00+01:00"
         ],
         "y": [
          0,
          71.38
         ]
        },
        {
         "line": {
          "color": "gray",
          "dash": "dot"
         },
         "mode": "lines",
         "showlegend": false,
         "type": "scatter",
         "x": [
          "2021-01-09T00:00:00+01:00",
          "2021-01-09T00:00:00+01:00"
         ],
         "y": [
          0,
          71.38
         ]
        },
        {
         "line": {
          "color": "gray",
          "dash": "dot"
         },
         "mode": "lines",
         "showlegend": false,
         "type": "scatter",
         "x": [
          "2021-01-10T00:00:00+01:00",
          "2021-01-10T00:00:00+01:00"
         ],
         "y": [
          0,
          71.38
         ]
        },
        {
         "line": {
          "color": "gray",
          "dash": "dot"
         },
         "mode": "lines",
         "showlegend": false,
         "type": "scatter",
         "x": [
          "2021-01-11T00:00:00+01:00",
          "2021-01-11T00:00:00+01:00"
         ],
         "y": [
          0,
          71.38
         ]
        },
        {
         "line": {
          "color": "gray",
          "dash": "dot"
         },
         "mode": "lines",
         "showlegend": false,
         "type": "scatter",
         "x": [
          "2021-01-18T00:00:00+01:00",
          "2021-01-18T00:00:00+01:00"
         ],
         "y": [
          0,
          71.38
         ]
        },
        {
         "line": {
          "color": "gray",
          "dash": "dot"
         },
         "mode": "lines",
         "showlegend": false,
         "type": "scatter",
         "x": [
          "2021-01-25T00:00:00+01:00",
          "2021-01-25T00:00:00+01:00"
         ],
         "y": [
          0,
          71.38
         ]
        },
        {
         "line": {
          "color": "gray",
          "dash": "dot"
         },
         "mode": "lines",
         "showlegend": false,
         "type": "scatter",
         "x": [
          "2021-02-01T00:00:00+01:00",
          "2021-02-01T00:00:00+01:00"
         ],
         "y": [
          0,
          71.38
         ]
        },
        {
         "line": {
          "color": "gray",
          "dash": "dot"
         },
         "mode": "lines",
         "showlegend": false,
         "type": "scatter",
         "x": [
          "2021-02-08T00:00:00+01:00",
          "2021-02-08T00:00:00+01:00"
         ],
         "y": [
          0,
          71.38
         ]
        },
        {
         "line": {
          "color": "gray",
          "dash": "dot"
         },
         "mode": "lines",
         "showlegend": false,
         "type": "scatter",
         "x": [
          "2021-03-01T00:00:00+01:00",
          "2021-03-01T00:00:00+01:00"
         ],
         "y": [
          0,
          71.38
         ]
        },
        {
         "line": {
          "color": "gray",
          "dash": "dot"
         },
         "mode": "lines",
         "showlegend": false,
         "type": "scatter",
         "x": [
          "2021-04-01T00:00:00+02:00",
          "2021-04-01T00:00:00+02:00"
         ],
         "y": [
          0,
          71.38
         ]
        },
        {
         "line": {
          "color": "gray",
          "dash": "dot"
         },
         "mode": "lines",
         "showlegend": false,
         "type": "scatter",
         "x": [
          "2021-05-01T00:00:00+02:00",
          "2021-05-01T00:00:00+02:00"
         ],
         "y": [
          0,
          71.38
         ]
        },
        {
         "line": {
          "color": "gray",
          "dash": "dot"
         },
         "mode": "lines",
         "showlegend": false,
         "type": "scatter",
         "x": [
          "2021-06-01T00:00:00+02:00",
          "2021-06-01T00:00:00+02:00"
         ],
         "y": [
          0,
          71.38
         ]
        },
        {
         "line": {
          "color": "gray",
          "dash": "dot"
         },
         "mode": "lines",
         "showlegend": false,
         "type": "scatter",
         "x": [
          "2021-07-01T00:00:00+02:00",
          "2021-07-01T00:00:00+02:00"
         ],
         "y": [
          0,
          71.38
         ]
        },
        {
         "line": {
          "color": "gray",
          "dash": "dot"
         },
         "mode": "lines",
         "showlegend": false,
         "type": "scatter",
         "x": [
          "2021-08-01T00:00:00+02:00",
          "2021-08-01T00:00:00+02:00"
         ],
         "y": [
          0,
          71.38
         ]
        },
        {
         "line": {
          "color": "gray",
          "dash": "dot"
         },
         "mode": "lines",
         "showlegend": false,
         "type": "scatter",
         "x": [
          "2021-09-01T00:00:00+02:00",
          "2021-09-01T00:00:00+02:00"
         ],
         "y": [
          0,
          71.38
         ]
        },
        {
         "line": {
          "color": "gray",
          "dash": "dot"
         },
         "mode": "lines",
         "showlegend": false,
         "type": "scatter",
         "x": [
          "2021-10-01T00:00:00+02:00",
          "2021-10-01T00:00:00+02:00"
         ],
         "y": [
          0,
          71.38
         ]
        },
        {
         "line": {
          "color": "gray",
          "dash": "dot"
         },
         "mode": "lines",
         "showlegend": false,
         "type": "scatter",
         "x": [
          "2021-11-01T00:00:00+01:00",
          "2021-11-01T00:00:00+01:00"
         ],
         "y": [
          0,
          71.38
         ]
        },
        {
         "line": {
          "color": "gray",
          "dash": "dot"
         },
         "mode": "lines",
         "showlegend": false,
         "type": "scatter",
         "x": [
          "2022-01-01T00:00:00+01:00",
          "2022-01-01T00:00:00+01:00"
         ],
         "y": [
          0,
          71.38
         ]
        },
        {
         "line": {
          "color": "gray",
          "dash": "dot"
         },
         "mode": "lines",
         "showlegend": false,
         "type": "scatter",
         "x": [
          "2022-04-01T00:00:00+02:00",
          "2022-04-01T00:00:00+02:00"
         ],
         "y": [
          0,
          71.38
         ]
        },
        {
         "line": {
          "color": "gray",
          "dash": "dot"
         },
         "mode": "lines",
         "showlegend": false,
         "type": "scatter",
         "x": [
          "2022-07-01T00:00:00+02:00",
          "2022-07-01T00:00:00+02:00"
         ],
         "y": [
          0,
          71.38
         ]
        },
        {
         "line": {
          "color": "gray",
          "dash": "dot"
         },
         "mode": "lines",
         "showlegend": false,
         "type": "scatter",
         "x": [
          "2022-10-01T00:00:00+02:00",
          "2022-10-01T00:00:00+02:00"
         ],
         "y": [
          0,
          71.38
         ]
        },
        {
         "line": {
          "color": "gray",
          "dash": "dot"
         },
         "mode": "lines",
         "showlegend": false,
         "type": "scatter",
         "x": [
          "2023-01-01T00:00:00+01:00",
          "2023-01-01T00:00:00+01:00"
         ],
         "y": [
          0,
          71.38
         ]
        },
        {
         "line": {
          "color": "gray",
          "dash": "dot"
         },
         "mode": "lines",
         "showlegend": false,
         "type": "scatter",
         "x": [
          "2023-04-01T00:00:00+02:00",
          "2023-04-01T00:00:00+02:00"
         ],
         "y": [
          0,
          71.38
         ]
        },
        {
         "line": {
          "color": "gray",
          "dash": "dot"
         },
         "mode": "lines",
         "showlegend": false,
         "type": "scatter",
         "x": [
          "2024-01-01T00:00:00+01:00",
          "2024-01-01T00:00:00+01:00"
         ],
         "y": [
          0,
          71.38
         ]
        },
        {
         "line": {
          "color": "gray",
          "dash": "dot"
         },
         "mode": "lines",
         "showlegend": false,
         "type": "scatter",
         "x": [
          "2025-01-01T00:00:00+01:00",
          "2025-01-01T00:00:00+01:00"
         ],
         "y": [
          0,
          71.38
         ]
        }
       ],
       "layout": {
        "template": {
         "data": {
          "bar": [
           {
            "error_x": {
             "color": "#2a3f5f"
            },
            "error_y": {
             "color": "#2a3f5f"
            },
            "marker": {
             "line": {
              "color": "#E5ECF6",
              "width": 0.5
             },
             "pattern": {
              "fillmode": "overlay",
              "size": 10,
              "solidity": 0.2
             }
            },
            "type": "bar"
           }
          ],
          "barpolar": [
           {
            "marker": {
             "line": {
              "color": "#E5ECF6",
              "width": 0.5
             },
             "pattern": {
              "fillmode": "overlay",
              "size": 10,
              "solidity": 0.2
             }
            },
            "type": "barpolar"
           }
          ],
          "carpet": [
           {
            "aaxis": {
             "endlinecolor": "#2a3f5f",
             "gridcolor": "white",
             "linecolor": "white",
             "minorgridcolor": "white",
             "startlinecolor": "#2a3f5f"
            },
            "baxis": {
             "endlinecolor": "#2a3f5f",
             "gridcolor": "white",
             "linecolor": "white",
             "minorgridcolor": "white",
             "startlinecolor": "#2a3f5f"
            },
            "type": "carpet"
           }
          ],
          "choropleth": [
           {
            "colorbar": {
             "outlinewidth": 0,
             "ticks": ""
            },
            "type": "choropleth"
           }
          ],
          "contour": [
           {
            "colorbar": {
             "outlinewidth": 0,
             "ticks": ""
            },
            "colorscale": [
             [
              0,
              "#0d0887"
             ],
             [
              0.1111111111111111,
              "#46039f"
             ],
             [
              0.2222222222222222,
              "#7201a8"
             ],
             [
              0.3333333333333333,
              "#9c179e"
             ],
             [
              0.4444444444444444,
              "#bd3786"
             ],
             [
              0.5555555555555556,
              "#d8576b"
             ],
             [
              0.6666666666666666,
              "#ed7953"
             ],
             [
              0.7777777777777778,
              "#fb9f3a"
             ],
             [
              0.8888888888888888,
              "#fdca26"
             ],
             [
              1,
              "#f0f921"
             ]
            ],
            "type": "contour"
           }
          ],
          "contourcarpet": [
           {
            "colorbar": {
             "outlinewidth": 0,
             "ticks": ""
            },
            "type": "contourcarpet"
           }
          ],
          "heatmap": [
           {
            "colorbar": {
             "outlinewidth": 0,
             "ticks": ""
            },
            "colorscale": [
             [
              0,
              "#0d0887"
             ],
             [
              0.1111111111111111,
              "#46039f"
             ],
             [
              0.2222222222222222,
              "#7201a8"
             ],
             [
              0.3333333333333333,
              "#9c179e"
             ],
             [
              0.4444444444444444,
              "#bd3786"
             ],
             [
              0.5555555555555556,
              "#d8576b"
             ],
             [
              0.6666666666666666,
              "#ed7953"
             ],
             [
              0.7777777777777778,
              "#fb9f3a"
             ],
             [
              0.8888888888888888,
              "#fdca26"
             ],
             [
              1,
              "#f0f921"
             ]
            ],
            "type": "heatmap"
           }
          ],
          "heatmapgl": [
           {
            "colorbar": {
             "outlinewidth": 0,
             "ticks": ""
            },
            "colorscale": [
             [
              0,
              "#0d0887"
             ],
             [
              0.1111111111111111,
              "#46039f"
             ],
             [
              0.2222222222222222,
              "#7201a8"
             ],
             [
              0.3333333333333333,
              "#9c179e"
             ],
             [
              0.4444444444444444,
              "#bd3786"
             ],
             [
              0.5555555555555556,
              "#d8576b"
             ],
             [
              0.6666666666666666,
              "#ed7953"
             ],
             [
              0.7777777777777778,
              "#fb9f3a"
             ],
             [
              0.8888888888888888,
              "#fdca26"
             ],
             [
              1,
              "#f0f921"
             ]
            ],
            "type": "heatmapgl"
           }
          ],
          "histogram": [
           {
            "marker": {
             "pattern": {
              "fillmode": "overlay",
              "size": 10,
              "solidity": 0.2
             }
            },
            "type": "histogram"
           }
          ],
          "histogram2d": [
           {
            "colorbar": {
             "outlinewidth": 0,
             "ticks": ""
            },
            "colorscale": [
             [
              0,
              "#0d0887"
             ],
             [
              0.1111111111111111,
              "#46039f"
             ],
             [
              0.2222222222222222,
              "#7201a8"
             ],
             [
              0.3333333333333333,
              "#9c179e"
             ],
             [
              0.4444444444444444,
              "#bd3786"
             ],
             [
              0.5555555555555556,
              "#d8576b"
             ],
             [
              0.6666666666666666,
              "#ed7953"
             ],
             [
              0.7777777777777778,
              "#fb9f3a"
             ],
             [
              0.8888888888888888,
              "#fdca26"
             ],
             [
              1,
              "#f0f921"
             ]
            ],
            "type": "histogram2d"
           }
          ],
          "histogram2dcontour": [
           {
            "colorbar": {
             "outlinewidth": 0,
             "ticks": ""
            },
            "colorscale": [
             [
              0,
              "#0d0887"
             ],
             [
              0.1111111111111111,
              "#46039f"
             ],
             [
              0.2222222222222222,
              "#7201a8"
             ],
             [
              0.3333333333333333,
              "#9c179e"
             ],
             [
              0.4444444444444444,
              "#bd3786"
             ],
             [
              0.5555555555555556,
              "#d8576b"
             ],
             [
              0.6666666666666666,
              "#ed7953"
             ],
             [
              0.7777777777777778,
              "#fb9f3a"
             ],
             [
              0.8888888888888888,
              "#fdca26"
             ],
             [
              1,
              "#f0f921"
             ]
            ],
            "type": "histogram2dcontour"
           }
          ],
          "mesh3d": [
           {
            "colorbar": {
             "outlinewidth": 0,
             "ticks": ""
            },
            "type": "mesh3d"
           }
          ],
          "parcoords": [
           {
            "line": {
             "colorbar": {
              "outlinewidth": 0,
              "ticks": ""
             }
            },
            "type": "parcoords"
           }
          ],
          "pie": [
           {
            "automargin": true,
            "type": "pie"
           }
          ],
          "scatter": [
           {
            "fillpattern": {
             "fillmode": "overlay",
             "size": 10,
             "solidity": 0.2
            },
            "type": "scatter"
           }
          ],
          "scatter3d": [
           {
            "line": {
             "colorbar": {
              "outlinewidth": 0,
              "ticks": ""
             }
            },
            "marker": {
             "colorbar": {
              "outlinewidth": 0,
              "ticks": ""
             }
            },
            "type": "scatter3d"
           }
          ],
          "scattercarpet": [
           {
            "marker": {
             "colorbar": {
              "outlinewidth": 0,
              "ticks": ""
             }
            },
            "type": "scattercarpet"
           }
          ],
          "scattergeo": [
           {
            "marker": {
             "colorbar": {
              "outlinewidth": 0,
              "ticks": ""
             }
            },
            "type": "scattergeo"
           }
          ],
          "scattergl": [
           {
            "marker": {
             "colorbar": {
              "outlinewidth": 0,
              "ticks": ""
             }
            },
            "type": "scattergl"
           }
          ],
          "scattermapbox": [
           {
            "marker": {
             "colorbar": {
              "outlinewidth": 0,
              "ticks": ""
             }
            },
            "type": "scattermapbox"
           }
          ],
          "scatterpolar": [
           {
            "marker": {
             "colorbar": {
              "outlinewidth": 0,
              "ticks": ""
             }
            },
            "type": "scatterpolar"
           }
          ],
          "scatterpolargl": [
           {
            "marker": {
             "colorbar": {
              "outlinewidth": 0,
              "ticks": ""
             }
            },
            "type": "scatterpolargl"
           }
          ],
          "scatterternary": [
           {
            "marker": {
             "colorbar": {
              "outlinewidth": 0,
              "ticks": ""
             }
            },
            "type": "scatterternary"
           }
          ],
          "surface": [
           {
            "colorbar": {
             "outlinewidth": 0,
             "ticks": ""
            },
            "colorscale": [
             [
              0,
              "#0d0887"
             ],
             [
              0.1111111111111111,
              "#46039f"
             ],
             [
              0.2222222222222222,
              "#7201a8"
             ],
             [
              0.3333333333333333,
              "#9c179e"
             ],
             [
              0.4444444444444444,
              "#bd3786"
             ],
             [
              0.5555555555555556,
              "#d8576b"
             ],
             [
              0.6666666666666666,
              "#ed7953"
             ],
             [
              0.7777777777777778,
              "#fb9f3a"
             ],
             [
              0.8888888888888888,
              "#fdca26"
             ],
             [
              1,
              "#f0f921"
             ]
            ],
            "type": "surface"
           }
          ],
          "table": [
           {
            "cells": {
             "fill": {
              "color": "#EBF0F8"
             },
             "line": {
              "color": "white"
             }
            },
            "header": {
             "fill": {
              "color": "#C8D4E3"
             },
             "line": {
              "color": "white"
             }
            },
            "type": "table"
           }
          ]
         },
         "layout": {
          "annotationdefaults": {
           "arrowcolor": "#2a3f5f",
           "arrowhead": 0,
           "arrowwidth": 1
          },
          "autotypenumbers": "strict",
          "coloraxis": {
           "colorbar": {
            "outlinewidth": 0,
            "ticks": ""
           }
          },
          "colorscale": {
           "diverging": [
            [
             0,
             "#8e0152"
            ],
            [
             0.1,
             "#c51b7d"
            ],
            [
             0.2,
             "#de77ae"
            ],
            [
             0.3,
             "#f1b6da"
            ],
            [
             0.4,
             "#fde0ef"
            ],
            [
             0.5,
             "#f7f7f7"
            ],
            [
             0.6,
             "#e6f5d0"
            ],
            [
             0.7,
             "#b8e186"
            ],
            [
             0.8,
             "#7fbc41"
            ],
            [
             0.9,
             "#4d9221"
            ],
            [
             1,
             "#276419"
            ]
           ],
           "sequential": [
            [
             0,
             "#0d0887"
            ],
            [
             0.1111111111111111,
             "#46039f"
            ],
            [
             0.2222222222222222,
             "#7201a8"
            ],
            [
             0.3333333333333333,
             "#9c179e"
            ],
            [
             0.4444444444444444,
             "#bd3786"
            ],
            [
             0.5555555555555556,
             "#d8576b"
            ],
            [
             0.6666666666666666,
             "#ed7953"
            ],
            [
             0.7777777777777778,
             "#fb9f3a"
            ],
            [
             0.8888888888888888,
             "#fdca26"
            ],
            [
             1,
             "#f0f921"
            ]
           ],
           "sequentialminus": [
            [
             0,
             "#0d0887"
            ],
            [
             0.1111111111111111,
             "#46039f"
            ],
            [
             0.2222222222222222,
             "#7201a8"
            ],
            [
             0.3333333333333333,
             "#9c179e"
            ],
            [
             0.4444444444444444,
             "#bd3786"
            ],
            [
             0.5555555555555556,
             "#d8576b"
            ],
            [
             0.6666666666666666,
             "#ed7953"
            ],
            [
             0.7777777777777778,
             "#fb9f3a"
            ],
            [
             0.8888888888888888,
             "#fdca26"
            ],
            [
             1,
             "#f0f921"
            ]
           ]
          },
          "colorway": [
           "#636efa",
           "#EF553B",
           "#00cc96",
           "#ab63fa",
           "#FFA15A",
           "#19d3f3",
           "#FF6692",
           "#B6E880",
           "#FF97FF",
           "#FECB52"
          ],
          "font": {
           "color": "#2a3f5f"
          },
          "geo": {
           "bgcolor": "white",
           "lakecolor": "white",
           "landcolor": "#E5ECF6",
           "showlakes": true,
           "showland": true,
           "subunitcolor": "white"
          },
          "hoverlabel": {
           "align": "left"
          },
          "hovermode": "closest",
          "mapbox": {
           "style": "light"
          },
          "paper_bgcolor": "white",
          "plot_bgcolor": "#E5ECF6",
          "polar": {
           "angularaxis": {
            "gridcolor": "white",
            "linecolor": "white",
            "ticks": ""
           },
           "bgcolor": "#E5ECF6",
           "radialaxis": {
            "gridcolor": "white",
            "linecolor": "white",
            "ticks": ""
           }
          },
          "scene": {
           "xaxis": {
            "backgroundcolor": "#E5ECF6",
            "gridcolor": "white",
            "gridwidth": 2,
            "linecolor": "white",
            "showbackground": true,
            "ticks": "",
            "zerolinecolor": "white"
           },
           "yaxis": {
            "backgroundcolor": "#E5ECF6",
            "gridcolor": "white",
            "gridwidth": 2,
            "linecolor": "white",
            "showbackground": true,
            "ticks": "",
            "zerolinecolor": "white"
           },
           "zaxis": {
            "backgroundcolor": "#E5ECF6",
            "gridcolor": "white",
            "gridwidth": 2,
            "linecolor": "white",
            "showbackground": true,
            "ticks": "",
            "zerolinecolor": "white"
           }
          },
          "shapedefaults": {
           "line": {
            "color": "#2a3f5f"
           }
          },
          "ternary": {
           "aaxis": {
            "gridcolor": "white",
            "linecolor": "white",
            "ticks": ""
           },
           "baxis": {
            "gridcolor": "white",
            "linecolor": "white",
            "ticks": ""
           },
           "bgcolor": "#E5ECF6",
           "caxis": {
            "gridcolor": "white",
            "linecolor": "white",
            "ticks": ""
           }
          },
          "title": {
           "x": 0.05
          },
          "xaxis": {
           "automargin": true,
           "gridcolor": "white",
           "linecolor": "white",
           "ticks": "",
           "title": {
            "standoff": 15
           },
           "zerolinecolor": "white",
           "zerolinewidth": 2
          },
          "yaxis": {
           "automargin": true,
           "gridcolor": "white",
           "linecolor": "white",
           "ticks": "",
           "title": {
            "standoff": 15
           },
           "zerolinecolor": "white",
           "zerolinewidth": 2
          }
         }
        }
       }
      }
     },
     "metadata": {},
     "output_type": "display_data"
    }
   ],
   "source": [
    "forwards = get_forwards('2021-01-04', start = '2021-01-04', end = '2025-01-05')\n",
    "timestamps, prices = partition_forwards(forwards)\n",
    "data = forwards\n",
    "# Initialize plot\n",
    "fig = go.Figure()\n",
    "unique_identifiers = data['Identifier'].unique()\n",
    "color_map = {identifier: color for identifier, color in zip(unique_identifiers, pc.qualitative.Plotly)}\n",
    "added_identifiers = set()\n",
    "\n",
    "# Plot original data\n",
    "for index, row in data.iterrows():\n",
    "    show_legend = row['Identifier'] not in added_identifiers\n",
    "    fig.add_trace(go.Scatter(\n",
    "        x=[row['Begin'], row['End']],\n",
    "        y=[row['Settlement'], row['Settlement']],\n",
    "        mode='lines',\n",
    "        name=row['Identifier'] if show_legend else None,\n",
    "        showlegend=show_legend,\n",
    "        line=dict(color=color_map[row['Identifier']])\n",
    "    ))\n",
    "    added_identifiers.add(row['Identifier'])\n",
    "\n",
    "# Add new forward lines\n",
    "temporary_identifier = \"New_Forward_Line\"\n",
    "color_map[temporary_identifier] = pc.qualitative.Plotly[len(color_map) % len(pc.qualitative.Plotly)]\n",
    "for i in range(len(prices)):\n",
    "    fig.add_trace(go.Scatter(\n",
    "        x=[timestamps[i], timestamps[i + 1]],\n",
    "        y=[prices[i], prices[i]],\n",
    "        mode='lines',\n",
    "        name=temporary_identifier if i == 0 else None,  # Add legend only once\n",
    "        showlegend=(i == 0),\n",
    "        line=dict(color=color_map[temporary_identifier], dash=\"dot\")  # Optional: use dashed line style\n",
    "    ))\n",
    "\n",
    "for ts in timestamps:\n",
    "    fig.add_trace(go.Scatter(\n",
    "        x=[ts, ts],\n",
    "        y=[0, max(data['Settlement'].tolist())],\n",
    "        mode='lines',\n",
    "        line=dict(color='gray', dash='dot'),\n",
    "        showlegend=False\n",
    "    ))\n",
    "\n",
    "# Show the plot\n",
    "fig.show()\n"
   ]
  }
 ],
 "metadata": {
  "kernelspec": {
   "display_name": "base",
   "language": "python",
   "name": "python3"
  },
  "language_info": {
   "codemirror_mode": {
    "name": "ipython",
    "version": 3
   },
   "file_extension": ".py",
   "mimetype": "text/x-python",
   "name": "python",
   "nbconvert_exporter": "python",
   "pygments_lexer": "ipython3",
   "version": "3.11.3"
  }
 },
 "nbformat": 4,
 "nbformat_minor": 2
}
